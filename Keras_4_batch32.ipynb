{
 "cells": [
  {
   "cell_type": "code",
   "execution_count": 1,
   "id": "3a310105",
   "metadata": {},
   "outputs": [],
   "source": [
    "import numpy as np\n",
    "import pandas as pd\n",
    "\n",
    "\n",
    "import tensorflow as tf\n",
    "\n",
    "from tensorflow import feature_column\n",
    "from tensorflow.keras import layers\n",
    "from sklearn.model_selection import train_test_split"
   ]
  },
  {
   "cell_type": "code",
   "execution_count": 2,
   "id": "d3d59543",
   "metadata": {},
   "outputs": [],
   "source": [
    "ts=pd.read_csv(\"Features_testset.csv\")\n",
    "df=pd.read_csv(\"Features_trainvalidation.csv\")"
   ]
  },
  {
   "cell_type": "code",
   "execution_count": 3,
   "id": "521fc3c6",
   "metadata": {},
   "outputs": [],
   "source": [
    "df['Bandgap'] = np.where(df['Bandgap']== 0,0,1)"
   ]
  },
  {
   "cell_type": "code",
   "execution_count": 4,
   "id": "efe0cbc7",
   "metadata": {},
   "outputs": [
    {
     "name": "stdout",
     "output_type": "stream",
     "text": [
      "28271 훈련 샘플\n",
      "7068 검증 샘플\n",
      "8835 테스트 샘플\n"
     ]
    }
   ],
   "source": [
    "train, test = train_test_split(df, test_size=0.2)\n",
    "train, val = train_test_split(train, test_size=0.2)\n",
    "print(len(train), '훈련 샘플')\n",
    "print(len(val), '검증 샘플')\n",
    "print(len(test), '테스트 샘플')"
   ]
  },
  {
   "cell_type": "code",
   "execution_count": 5,
   "id": "1cc8aecb",
   "metadata": {},
   "outputs": [],
   "source": [
    "def df_to_dataset(dataframe, shuffle=True, batch_size=32):\n",
    "  dataframe = dataframe.copy()\n",
    "  labels = dataframe.pop('Bandgap')\n",
    "  ds = tf.data.Dataset.from_tensor_slices((dict(dataframe), labels))\n",
    "  if shuffle:\n",
    "    ds = ds.shuffle(buffer_size=len(dataframe))\n",
    "  ds = ds.batch(batch_size)\n",
    "  return ds"
   ]
  },
  {
   "cell_type": "code",
   "execution_count": 6,
   "id": "8546a407",
   "metadata": {},
   "outputs": [],
   "source": [
    "batch_size = 5 # 예제를 위해 작은 배치 크기를 사용합니다.\n",
    "train_ds = df_to_dataset(train, batch_size=batch_size)\n",
    "val_ds = df_to_dataset(val, shuffle=False, batch_size=batch_size)\n",
    "test_ds = df_to_dataset(test, shuffle=False, batch_size=batch_size)"
   ]
  },
  {
   "cell_type": "code",
   "execution_count": 7,
   "id": "9b1a6397",
   "metadata": {},
   "outputs": [
    {
     "name": "stdout",
     "output_type": "stream",
     "text": [
      "전체 특성: ['NComp', 'Comp_L2Norm', 'Comp_L3Norm', 'Comp_L5Norm', 'Comp_L7Norm', 'Comp_L10Norm', 'mean_Number', 'maxdiff_Number', 'dev_Number', 'max_Number', 'min_Number', 'most_Number', 'mean_MendeleevNumber', 'maxdiff_MendeleevNumber', 'dev_MendeleevNumber', 'max_MendeleevNumber', 'min_MendeleevNumber', 'most_MendeleevNumber', 'mean_AtomicWeight', 'maxdiff_AtomicWeight', 'dev_AtomicWeight', 'max_AtomicWeight', 'min_AtomicWeight', 'most_AtomicWeight', 'mean_MeltingT', 'maxdiff_MeltingT', 'dev_MeltingT', 'max_MeltingT', 'min_MeltingT', 'most_MeltingT', 'mean_Column', 'maxdiff_Column', 'dev_Column', 'max_Column', 'min_Column', 'most_Column', 'mean_Row', 'maxdiff_Row', 'dev_Row', 'max_Row', 'min_Row', 'most_Row', 'mean_CovalentRadius', 'maxdiff_CovalentRadius', 'dev_CovalentRadius', 'max_CovalentRadius', 'min_CovalentRadius', 'most_CovalentRadius', 'mean_Electronegativity', 'maxdiff_Electronegativity', 'dev_Electronegativity', 'max_Electronegativity', 'min_Electronegativity', 'most_Electronegativity', 'mean_NsValence', 'maxdiff_NsValence', 'dev_NsValence', 'max_NsValence', 'min_NsValence', 'most_NsValence', 'mean_NpValence', 'maxdiff_NpValence', 'dev_NpValence', 'max_NpValence', 'min_NpValence', 'most_NpValence', 'mean_NdValence', 'maxdiff_NdValence', 'dev_NdValence', 'max_NdValence', 'min_NdValence', 'most_NdValence', 'mean_NfValence', 'maxdiff_NfValence', 'dev_NfValence', 'max_NfValence', 'min_NfValence', 'most_NfValence', 'mean_NValance', 'maxdiff_NValance', 'dev_NValance', 'max_NValance', 'min_NValance', 'most_NValance', 'mean_NsUnfilled', 'maxdiff_NsUnfilled', 'dev_NsUnfilled', 'max_NsUnfilled', 'min_NsUnfilled', 'most_NsUnfilled', 'mean_NpUnfilled', 'maxdiff_NpUnfilled', 'dev_NpUnfilled', 'max_NpUnfilled', 'min_NpUnfilled', 'most_NpUnfilled', 'mean_NdUnfilled', 'maxdiff_NdUnfilled', 'dev_NdUnfilled', 'max_NdUnfilled', 'min_NdUnfilled', 'most_NdUnfilled', 'mean_NfUnfilled', 'maxdiff_NfUnfilled', 'dev_NfUnfilled', 'max_NfUnfilled', 'min_NfUnfilled', 'most_NfUnfilled', 'mean_NUnfilled', 'maxdiff_NUnfilled', 'dev_NUnfilled', 'max_NUnfilled', 'min_NUnfilled', 'most_NUnfilled', 'mean_GSvolume_pa', 'maxdiff_GSvolume_pa', 'dev_GSvolume_pa', 'max_GSvolume_pa', 'min_GSvolume_pa', 'most_GSvolume_pa', 'mean_GSbandgap', 'maxdiff_GSbandgap', 'dev_GSbandgap', 'max_GSbandgap', 'min_GSbandgap', 'most_GSbandgap', 'mean_GSmagmom', 'maxdiff_GSmagmom', 'dev_GSmagmom', 'max_GSmagmom', 'min_GSmagmom', 'most_GSmagmom', 'mean_SpaceGroupNumber', 'maxdiff_SpaceGroupNumber', 'dev_SpaceGroupNumber', 'max_SpaceGroupNumber', 'min_SpaceGroupNumber', 'most_SpaceGroupNumber', 'frac_sValence', 'frac_pValence', 'frac_dValence', 'frac_fValence', 'CanFormIonic', 'MaxIonicChar', 'MeanIonicChar', 'Index', 'TotalEnergy']\n",
      "NComp의 배치: tf.Tensor([3 3 3 3 4], shape=(5,), dtype=int64)\n",
      "타깃의 배치: tf.Tensor([0 0 0 0 1], shape=(5,), dtype=int32)\n"
     ]
    }
   ],
   "source": [
    "for feature_batch, label_batch in train_ds.take(1):\n",
    "  print('전체 특성:', list(feature_batch.keys()))\n",
    "  print('NComp의 배치:', feature_batch['NComp'])\n",
    "  print('타깃의 배치:', label_batch )"
   ]
  },
  {
   "cell_type": "code",
   "execution_count": 8,
   "id": "e1862535",
   "metadata": {},
   "outputs": [],
   "source": [
    "example_batch = next(iter(train_ds))[0]"
   ]
  },
  {
   "cell_type": "code",
   "execution_count": 9,
   "id": "e9b3f7dc",
   "metadata": {},
   "outputs": [],
   "source": [
    "#특성 열을 만들고 배치 데이터를 변환하는 함수\n",
    "def demo(feature_column):\n",
    "  feature_layer = layers.DenseFeatures(feature_column)\n",
    "  print(feature_layer(example_batch).numpy())"
   ]
  },
  {
   "cell_type": "code",
   "execution_count": 10,
   "id": "facb4063",
   "metadata": {},
   "outputs": [
    {
     "name": "stdout",
     "output_type": "stream",
     "text": [
      "[[3.]\n",
      " [2.]\n",
      " [2.]\n",
      " [3.]\n",
      " [3.]]\n"
     ]
    }
   ],
   "source": [
    "#수치형 열 예시\n",
    "NComp = feature_column.numeric_column(\"NComp\")\n",
    "demo(NComp)"
   ]
  },
  {
   "cell_type": "raw",
   "id": "f4844d7f",
   "metadata": {},
   "source": [
    "#버킷형 열 예시\n",
    "NComp_buckets = feature_column.bucketized_column(NComp, boundaries=[18, 25, 30, 35, 40, 45, 50, 55, 60, 65])\n",
    "demo(NComp_buckets)"
   ]
  },
  {
   "cell_type": "code",
   "execution_count": 11,
   "id": "5efb7870",
   "metadata": {},
   "outputs": [],
   "source": [
    "feature_columns = []\n",
    "\n",
    "# 수치형 열\n",
    "for header in ['NComp', 'Comp_L2Norm', 'Comp_L3Norm', 'Comp_L5Norm', 'Comp_L7Norm', 'Comp_L10Norm', 'mean_Number', 'maxdiff_Number', \n",
    "               'dev_Number', 'max_Number', 'min_Number', 'most_Number', 'mean_MendeleevNumber', 'maxdiff_MendeleevNumber', \n",
    "               'dev_MendeleevNumber', 'max_MendeleevNumber', 'min_MendeleevNumber', 'most_MendeleevNumber', 'mean_AtomicWeight', \n",
    "               'maxdiff_AtomicWeight', 'dev_AtomicWeight', 'max_AtomicWeight', 'min_AtomicWeight', 'most_AtomicWeight', \n",
    "               'mean_MeltingT', 'maxdiff_MeltingT', 'dev_MeltingT', 'max_MeltingT', 'min_MeltingT', 'most_MeltingT', 'mean_Column', \n",
    "               'maxdiff_Column', 'dev_Column', 'max_Column', 'min_Column', 'most_Column', 'mean_Row', 'maxdiff_Row', 'dev_Row', \n",
    "               'max_Row', 'min_Row', 'most_Row', 'mean_CovalentRadius', 'maxdiff_CovalentRadius', 'dev_CovalentRadius', \n",
    "               'max_CovalentRadius', 'min_CovalentRadius', 'most_CovalentRadius', 'mean_Electronegativity', \n",
    "               'maxdiff_Electronegativity', 'dev_Electronegativity', 'max_Electronegativity', 'min_Electronegativity', \n",
    "               'most_Electronegativity', 'mean_NsValence', 'maxdiff_NsValence', 'dev_NsValence', 'max_NsValence', \n",
    "               'min_NsValence', 'most_NsValence', 'mean_NpValence', 'maxdiff_NpValence', 'dev_NpValence', 'max_NpValence', \n",
    "               'min_NpValence', 'most_NpValence', 'mean_NdValence', 'maxdiff_NdValence', 'dev_NdValence', 'max_NdValence', \n",
    "               'min_NdValence', 'most_NdValence', 'mean_NfValence', 'maxdiff_NfValence', 'dev_NfValence', 'max_NfValence', \n",
    "               'min_NfValence', 'most_NfValence', 'mean_NValance', 'maxdiff_NValance', 'dev_NValance', 'max_NValance', \n",
    "               'min_NValance', 'most_NValance', 'mean_NsUnfilled', 'maxdiff_NsUnfilled', 'dev_NsUnfilled', 'max_NsUnfilled',\n",
    "               'min_NsUnfilled', 'most_NsUnfilled', 'mean_NpUnfilled', 'maxdiff_NpUnfilled', 'dev_NpUnfilled', 'max_NpUnfilled',\n",
    "               'min_NpUnfilled', 'most_NpUnfilled', 'mean_NdUnfilled', 'maxdiff_NdUnfilled', 'dev_NdUnfilled', 'max_NdUnfilled', \n",
    "               'min_NdUnfilled', 'most_NdUnfilled', 'mean_NfUnfilled', 'maxdiff_NfUnfilled', 'dev_NfUnfilled', 'max_NfUnfilled', \n",
    "               'min_NfUnfilled', 'most_NfUnfilled', 'mean_NUnfilled', 'maxdiff_NUnfilled', 'dev_NUnfilled', 'max_NUnfilled', \n",
    "               'min_NUnfilled', 'most_NUnfilled', 'mean_GSvolume_pa', 'maxdiff_GSvolume_pa', 'dev_GSvolume_pa', 'max_GSvolume_pa', \n",
    "               'min_GSvolume_pa', 'most_GSvolume_pa', 'mean_GSbandgap', 'maxdiff_GSbandgap', 'dev_GSbandgap', 'max_GSbandgap', \n",
    "               'min_GSbandgap', 'most_GSbandgap', 'mean_GSmagmom', 'maxdiff_GSmagmom', 'dev_GSmagmom', 'max_GSmagmom', \n",
    "               'min_GSmagmom', 'most_GSmagmom', 'mean_SpaceGroupNumber', 'maxdiff_SpaceGroupNumber', 'dev_SpaceGroupNumber', \n",
    "               'max_SpaceGroupNumber', 'min_SpaceGroupNumber', 'most_SpaceGroupNumber', 'frac_sValence', 'frac_pValence', \n",
    "               'frac_dValence', 'frac_fValence', 'CanFormIonic', 'MaxIonicChar', 'MeanIonicChar']:\n",
    "  feature_columns.append(feature_column.numeric_column(header))"
   ]
  },
  {
   "cell_type": "code",
   "execution_count": 12,
   "id": "a6729c30",
   "metadata": {},
   "outputs": [],
   "source": [
    "feature_layer = tf.keras.layers.DenseFeatures(feature_columns)"
   ]
  },
  {
   "cell_type": "code",
   "execution_count": 13,
   "id": "95b07a77",
   "metadata": {},
   "outputs": [],
   "source": [
    "batch_size = 32\n",
    "train_ds = df_to_dataset(train, batch_size=batch_size)\n",
    "val_ds = df_to_dataset(val, shuffle=False, batch_size=batch_size)\n",
    "test_ds = df_to_dataset(test, shuffle=False, batch_size=batch_size)"
   ]
  },
  {
   "cell_type": "code",
   "execution_count": 14,
   "id": "816461d3",
   "metadata": {
    "scrolled": true
   },
   "outputs": [
    {
     "name": "stdout",
     "output_type": "stream",
     "text": [
      "Epoch 1/5\n",
      "WARNING:tensorflow:Layers in a Sequential model should only have a single input tensor. Received: inputs={'NComp': <tf.Tensor 'IteratorGetNext:9' shape=(None,) dtype=int64>, 'Comp_L2Norm': <tf.Tensor 'IteratorGetNext:2' shape=(None,) dtype=float64>, 'Comp_L3Norm': <tf.Tensor 'IteratorGetNext:3' shape=(None,) dtype=float64>, 'Comp_L5Norm': <tf.Tensor 'IteratorGetNext:4' shape=(None,) dtype=float64>, 'Comp_L7Norm': <tf.Tensor 'IteratorGetNext:5' shape=(None,) dtype=float64>, 'Comp_L10Norm': <tf.Tensor 'IteratorGetNext:1' shape=(None,) dtype=float64>, 'mean_Number': <tf.Tensor 'IteratorGetNext:100' shape=(None,) dtype=float64>, 'maxdiff_Number': <tf.Tensor 'IteratorGetNext:78' shape=(None,) dtype=int64>, 'dev_Number': <tf.Tensor 'IteratorGetNext:30' shape=(None,) dtype=float64>, 'max_Number': <tf.Tensor 'IteratorGetNext:56' shape=(None,) dtype=int64>, 'min_Number': <tf.Tensor 'IteratorGetNext:122' shape=(None,) dtype=int64>, 'most_Number': <tf.Tensor 'IteratorGetNext:144' shape=(None,) dtype=float64>, 'mean_MendeleevNumber': <tf.Tensor 'IteratorGetNext:89' shape=(None,) dtype=float64>, 'maxdiff_MendeleevNumber': <tf.Tensor 'IteratorGetNext:67' shape=(None,) dtype=int64>, 'dev_MendeleevNumber': <tf.Tensor 'IteratorGetNext:19' shape=(None,) dtype=float64>, 'max_MendeleevNumber': <tf.Tensor 'IteratorGetNext:45' shape=(None,) dtype=int64>, 'min_MendeleevNumber': <tf.Tensor 'IteratorGetNext:111' shape=(None,) dtype=int64>, 'most_MendeleevNumber': <tf.Tensor 'IteratorGetNext:133' shape=(None,) dtype=float64>, 'mean_AtomicWeight': <tf.Tensor 'IteratorGetNext:81' shape=(None,) dtype=float64>, 'maxdiff_AtomicWeight': <tf.Tensor 'IteratorGetNext:59' shape=(None,) dtype=float64>, 'dev_AtomicWeight': <tf.Tensor 'IteratorGetNext:11' shape=(None,) dtype=float64>, 'max_AtomicWeight': <tf.Tensor 'IteratorGetNext:37' shape=(None,) dtype=float64>, 'min_AtomicWeight': <tf.Tensor 'IteratorGetNext:103' shape=(None,) dtype=float64>, 'most_AtomicWeight': <tf.Tensor 'IteratorGetNext:125' shape=(None,) dtype=float64>, 'mean_MeltingT': <tf.Tensor 'IteratorGetNext:88' shape=(None,) dtype=float64>, 'maxdiff_MeltingT': <tf.Tensor 'IteratorGetNext:66' shape=(None,) dtype=float64>, 'dev_MeltingT': <tf.Tensor 'IteratorGetNext:18' shape=(None,) dtype=float64>, 'max_MeltingT': <tf.Tensor 'IteratorGetNext:44' shape=(None,) dtype=float64>, 'min_MeltingT': <tf.Tensor 'IteratorGetNext:110' shape=(None,) dtype=float64>, 'most_MeltingT': <tf.Tensor 'IteratorGetNext:132' shape=(None,) dtype=float64>, 'mean_Column': <tf.Tensor 'IteratorGetNext:82' shape=(None,) dtype=float64>, 'maxdiff_Column': <tf.Tensor 'IteratorGetNext:60' shape=(None,) dtype=int64>, 'dev_Column': <tf.Tensor 'IteratorGetNext:12' shape=(None,) dtype=float64>, 'max_Column': <tf.Tensor 'IteratorGetNext:38' shape=(None,) dtype=int64>, 'min_Column': <tf.Tensor 'IteratorGetNext:104' shape=(None,) dtype=int64>, 'most_Column': <tf.Tensor 'IteratorGetNext:126' shape=(None,) dtype=float64>, 'mean_Row': <tf.Tensor 'IteratorGetNext:101' shape=(None,) dtype=float64>, 'maxdiff_Row': <tf.Tensor 'IteratorGetNext:79' shape=(None,) dtype=int64>, 'dev_Row': <tf.Tensor 'IteratorGetNext:31' shape=(None,) dtype=float64>, 'max_Row': <tf.Tensor 'IteratorGetNext:57' shape=(None,) dtype=int64>, 'min_Row': <tf.Tensor 'IteratorGetNext:123' shape=(None,) dtype=int64>, 'most_Row': <tf.Tensor 'IteratorGetNext:145' shape=(None,) dtype=float64>, 'mean_CovalentRadius': <tf.Tensor 'IteratorGetNext:83' shape=(None,) dtype=float64>, 'maxdiff_CovalentRadius': <tf.Tensor 'IteratorGetNext:61' shape=(None,) dtype=int64>, 'dev_CovalentRadius': <tf.Tensor 'IteratorGetNext:13' shape=(None,) dtype=float64>, 'max_CovalentRadius': <tf.Tensor 'IteratorGetNext:39' shape=(None,) dtype=int64>, 'min_CovalentRadius': <tf.Tensor 'IteratorGetNext:105' shape=(None,) dtype=int64>, 'most_CovalentRadius': <tf.Tensor 'IteratorGetNext:127' shape=(None,) dtype=float64>, 'mean_Electronegativity': <tf.Tensor 'IteratorGetNext:84' shape=(None,) dtype=float64>, 'maxdiff_Electronegativity': <tf.Tensor 'IteratorGetNext:62' shape=(None,) dtype=float64>, 'dev_Electronegativity': <tf.Tensor 'IteratorGetNext:14' shape=(None,) dtype=float64>, 'max_Electronegativity': <tf.Tensor 'IteratorGetNext:40' shape=(None,) dtype=float64>, 'min_Electronegativity': <tf.Tensor 'IteratorGetNext:106' shape=(None,) dtype=float64>, 'most_Electronegativity': <tf.Tensor 'IteratorGetNext:128' shape=(None,) dtype=float64>, 'mean_NsValence': <tf.Tensor 'IteratorGetNext:99' shape=(None,) dtype=float64>, 'maxdiff_NsValence': <tf.Tensor 'IteratorGetNext:77' shape=(None,) dtype=int64>, 'dev_NsValence': <tf.Tensor 'IteratorGetNext:29' shape=(None,) dtype=float64>, 'max_NsValence': <tf.Tensor 'IteratorGetNext:55' shape=(None,) dtype=int64>, 'min_NsValence': <tf.Tensor 'IteratorGetNext:121' shape=(None,) dtype=int64>, 'most_NsValence': <tf.Tensor 'IteratorGetNext:143' shape=(None,) dtype=float64>, 'mean_NpValence': <tf.Tensor 'IteratorGetNext:97' shape=(None,) dtype=float64>, 'maxdiff_NpValence': <tf.Tensor 'IteratorGetNext:75' shape=(None,) dtype=int64>, 'dev_NpValence': <tf.Tensor 'IteratorGetNext:27' shape=(None,) dtype=float64>, 'max_NpValence': <tf.Tensor 'IteratorGetNext:53' shape=(None,) dtype=int64>, 'min_NpValence': <tf.Tensor 'IteratorGetNext:119' shape=(None,) dtype=int64>, 'most_NpValence': <tf.Tensor 'IteratorGetNext:141' shape=(None,) dtype=float64>, 'mean_NdValence': <tf.Tensor 'IteratorGetNext:93' shape=(None,) dtype=float64>, 'maxdiff_NdValence': <tf.Tensor 'IteratorGetNext:71' shape=(None,) dtype=int64>, 'dev_NdValence': <tf.Tensor 'IteratorGetNext:23' shape=(None,) dtype=float64>, 'max_NdValence': <tf.Tensor 'IteratorGetNext:49' shape=(None,) dtype=int64>, 'min_NdValence': <tf.Tensor 'IteratorGetNext:115' shape=(None,) dtype=int64>, 'most_NdValence': <tf.Tensor 'IteratorGetNext:137' shape=(None,) dtype=float64>, 'mean_NfValence': <tf.Tensor 'IteratorGetNext:95' shape=(None,) dtype=float64>, 'maxdiff_NfValence': <tf.Tensor 'IteratorGetNext:73' shape=(None,) dtype=int64>, 'dev_NfValence': <tf.Tensor 'IteratorGetNext:25' shape=(None,) dtype=float64>, 'max_NfValence': <tf.Tensor 'IteratorGetNext:51' shape=(None,) dtype=int64>, 'min_NfValence': <tf.Tensor 'IteratorGetNext:117' shape=(None,) dtype=int64>, 'most_NfValence': <tf.Tensor 'IteratorGetNext:139' shape=(None,) dtype=float64>, 'mean_NValance': <tf.Tensor 'IteratorGetNext:91' shape=(None,) dtype=float64>, 'maxdiff_NValance': <tf.Tensor 'IteratorGetNext:69' shape=(None,) dtype=int64>, 'dev_NValance': <tf.Tensor 'IteratorGetNext:21' shape=(None,) dtype=float64>, 'max_NValance': <tf.Tensor 'IteratorGetNext:47' shape=(None,) dtype=int64>, 'min_NValance': <tf.Tensor 'IteratorGetNext:113' shape=(None,) dtype=int64>, 'most_NValance': <tf.Tensor 'IteratorGetNext:135' shape=(None,) dtype=float64>, 'mean_NsUnfilled': <tf.Tensor 'IteratorGetNext:98' shape=(None,) dtype=float64>, 'maxdiff_NsUnfilled': <tf.Tensor 'IteratorGetNext:76' shape=(None,) dtype=int64>, 'dev_NsUnfilled': <tf.Tensor 'IteratorGetNext:28' shape=(None,) dtype=float64>, 'max_NsUnfilled': <tf.Tensor 'IteratorGetNext:54' shape=(None,) dtype=int64>, 'min_NsUnfilled': <tf.Tensor 'IteratorGetNext:120' shape=(None,) dtype=int64>, 'most_NsUnfilled': <tf.Tensor 'IteratorGetNext:142' shape=(None,) dtype=float64>, 'mean_NpUnfilled': <tf.Tensor 'IteratorGetNext:96' shape=(None,) dtype=float64>, 'maxdiff_NpUnfilled': <tf.Tensor 'IteratorGetNext:74' shape=(None,) dtype=int64>, 'dev_NpUnfilled': <tf.Tensor 'IteratorGetNext:26' shape=(None,) dtype=float64>, 'max_NpUnfilled': <tf.Tensor 'IteratorGetNext:52' shape=(None,) dtype=int64>, 'min_NpUnfilled': <tf.Tensor 'IteratorGetNext:118' shape=(None,) dtype=int64>, 'most_NpUnfilled': <tf.Tensor 'IteratorGetNext:140' shape=(None,) dtype=float64>, 'mean_NdUnfilled': <tf.Tensor 'IteratorGetNext:92' shape=(None,) dtype=float64>, 'maxdiff_NdUnfilled': <tf.Tensor 'IteratorGetNext:70' shape=(None,) dtype=int64>, 'dev_NdUnfilled': <tf.Tensor 'IteratorGetNext:22' shape=(None,) dtype=float64>, 'max_NdUnfilled': <tf.Tensor 'IteratorGetNext:48' shape=(None,) dtype=int64>, 'min_NdUnfilled': <tf.Tensor 'IteratorGetNext:114' shape=(None,) dtype=int64>, 'most_NdUnfilled': <tf.Tensor 'IteratorGetNext:136' shape=(None,) dtype=float64>, 'mean_NfUnfilled': <tf.Tensor 'IteratorGetNext:94' shape=(None,) dtype=float64>, 'maxdiff_NfUnfilled': <tf.Tensor 'IteratorGetNext:72' shape=(None,) dtype=int64>, 'dev_NfUnfilled': <tf.Tensor 'IteratorGetNext:24' shape=(None,) dtype=float64>, 'max_NfUnfilled': <tf.Tensor 'IteratorGetNext:50' shape=(None,) dtype=int64>, 'min_NfUnfilled': <tf.Tensor 'IteratorGetNext:116' shape=(None,) dtype=int64>, 'most_NfUnfilled': <tf.Tensor 'IteratorGetNext:138' shape=(None,) dtype=float64>, 'mean_NUnfilled': <tf.Tensor 'IteratorGetNext:90' shape=(None,) dtype=float64>, 'maxdiff_NUnfilled': <tf.Tensor 'IteratorGetNext:68' shape=(None,) dtype=int64>, 'dev_NUnfilled': <tf.Tensor 'IteratorGetNext:20' shape=(None,) dtype=float64>, 'max_NUnfilled': <tf.Tensor 'IteratorGetNext:46' shape=(None,) dtype=int64>, 'min_NUnfilled': <tf.Tensor 'IteratorGetNext:112' shape=(None,) dtype=int64>, 'most_NUnfilled': <tf.Tensor 'IteratorGetNext:134' shape=(None,) dtype=float64>, 'mean_GSvolume_pa': <tf.Tensor 'IteratorGetNext:87' shape=(None,) dtype=float64>, 'maxdiff_GSvolume_pa': <tf.Tensor 'IteratorGetNext:65' shape=(None,) dtype=float64>, 'dev_GSvolume_pa': <tf.Tensor 'IteratorGetNext:17' shape=(None,) dtype=float64>, 'max_GSvolume_pa': <tf.Tensor 'IteratorGetNext:43' shape=(None,) dtype=float64>, 'min_GSvolume_pa': <tf.Tensor 'IteratorGetNext:109' shape=(None,) dtype=float64>, 'most_GSvolume_pa': <tf.Tensor 'IteratorGetNext:131' shape=(None,) dtype=float64>, 'mean_GSbandgap': <tf.Tensor 'IteratorGetNext:85' shape=(None,) dtype=float64>, 'maxdiff_GSbandgap': <tf.Tensor 'IteratorGetNext:63' shape=(None,) dtype=float64>, 'dev_GSbandgap': <tf.Tensor 'IteratorGetNext:15' shape=(None,) dtype=float64>, 'max_GSbandgap': <tf.Tensor 'IteratorGetNext:41' shape=(None,) dtype=float64>, 'min_GSbandgap': <tf.Tensor 'IteratorGetNext:107' shape=(None,) dtype=float64>, 'most_GSbandgap': <tf.Tensor 'IteratorGetNext:129' shape=(None,) dtype=float64>, 'mean_GSmagmom': <tf.Tensor 'IteratorGetNext:86' shape=(None,) dtype=float64>, 'maxdiff_GSmagmom': <tf.Tensor 'IteratorGetNext:64' shape=(None,) dtype=float64>, 'dev_GSmagmom': <tf.Tensor 'IteratorGetNext:16' shape=(None,) dtype=float64>, 'max_GSmagmom': <tf.Tensor 'IteratorGetNext:42' shape=(None,) dtype=float64>, 'min_GSmagmom': <tf.Tensor 'IteratorGetNext:108' shape=(None,) dtype=float64>, 'most_GSmagmom': <tf.Tensor 'IteratorGetNext:130' shape=(None,) dtype=float64>, 'mean_SpaceGroupNumber': <tf.Tensor 'IteratorGetNext:102' shape=(None,) dtype=float64>, 'maxdiff_SpaceGroupNumber': <tf.Tensor 'IteratorGetNext:80' shape=(None,) dtype=int64>, 'dev_SpaceGroupNumber': <tf.Tensor 'IteratorGetNext:32' shape=(None,) dtype=float64>, 'max_SpaceGroupNumber': <tf.Tensor 'IteratorGetNext:58' shape=(None,) dtype=int64>, 'min_SpaceGroupNumber': <tf.Tensor 'IteratorGetNext:124' shape=(None,) dtype=int64>, 'most_SpaceGroupNumber': <tf.Tensor 'IteratorGetNext:146' shape=(None,) dtype=float64>, 'frac_sValence': <tf.Tensor 'IteratorGetNext:36' shape=(None,) dtype=float64>, 'frac_pValence': <tf.Tensor 'IteratorGetNext:35' shape=(None,) dtype=float64>, 'frac_dValence': <tf.Tensor 'IteratorGetNext:33' shape=(None,) dtype=float64>, 'frac_fValence': <tf.Tensor 'IteratorGetNext:34' shape=(None,) dtype=float64>, 'CanFormIonic': <tf.Tensor 'IteratorGetNext:0' shape=(None,) dtype=int64>, 'MaxIonicChar': <tf.Tensor 'IteratorGetNext:7' shape=(None,) dtype=float64>, 'MeanIonicChar': <tf.Tensor 'IteratorGetNext:8' shape=(None,) dtype=float64>, 'Index': <tf.Tensor 'IteratorGetNext:6' shape=(None,) dtype=int64>, 'TotalEnergy': <tf.Tensor 'IteratorGetNext:10' shape=(None,) dtype=float64>}. Consider rewriting this model with the Functional API.\n"
     ]
    },
    {
     "name": "stdout",
     "output_type": "stream",
     "text": [
      "WARNING:tensorflow:Layers in a Sequential model should only have a single input tensor. Received: inputs={'NComp': <tf.Tensor 'IteratorGetNext:9' shape=(None,) dtype=int64>, 'Comp_L2Norm': <tf.Tensor 'IteratorGetNext:2' shape=(None,) dtype=float64>, 'Comp_L3Norm': <tf.Tensor 'IteratorGetNext:3' shape=(None,) dtype=float64>, 'Comp_L5Norm': <tf.Tensor 'IteratorGetNext:4' shape=(None,) dtype=float64>, 'Comp_L7Norm': <tf.Tensor 'IteratorGetNext:5' shape=(None,) dtype=float64>, 'Comp_L10Norm': <tf.Tensor 'IteratorGetNext:1' shape=(None,) dtype=float64>, 'mean_Number': <tf.Tensor 'IteratorGetNext:100' shape=(None,) dtype=float64>, 'maxdiff_Number': <tf.Tensor 'IteratorGetNext:78' shape=(None,) dtype=int64>, 'dev_Number': <tf.Tensor 'IteratorGetNext:30' shape=(None,) dtype=float64>, 'max_Number': <tf.Tensor 'IteratorGetNext:56' shape=(None,) dtype=int64>, 'min_Number': <tf.Tensor 'IteratorGetNext:122' shape=(None,) dtype=int64>, 'most_Number': <tf.Tensor 'IteratorGetNext:144' shape=(None,) dtype=float64>, 'mean_MendeleevNumber': <tf.Tensor 'IteratorGetNext:89' shape=(None,) dtype=float64>, 'maxdiff_MendeleevNumber': <tf.Tensor 'IteratorGetNext:67' shape=(None,) dtype=int64>, 'dev_MendeleevNumber': <tf.Tensor 'IteratorGetNext:19' shape=(None,) dtype=float64>, 'max_MendeleevNumber': <tf.Tensor 'IteratorGetNext:45' shape=(None,) dtype=int64>, 'min_MendeleevNumber': <tf.Tensor 'IteratorGetNext:111' shape=(None,) dtype=int64>, 'most_MendeleevNumber': <tf.Tensor 'IteratorGetNext:133' shape=(None,) dtype=float64>, 'mean_AtomicWeight': <tf.Tensor 'IteratorGetNext:81' shape=(None,) dtype=float64>, 'maxdiff_AtomicWeight': <tf.Tensor 'IteratorGetNext:59' shape=(None,) dtype=float64>, 'dev_AtomicWeight': <tf.Tensor 'IteratorGetNext:11' shape=(None,) dtype=float64>, 'max_AtomicWeight': <tf.Tensor 'IteratorGetNext:37' shape=(None,) dtype=float64>, 'min_AtomicWeight': <tf.Tensor 'IteratorGetNext:103' shape=(None,) dtype=float64>, 'most_AtomicWeight': <tf.Tensor 'IteratorGetNext:125' shape=(None,) dtype=float64>, 'mean_MeltingT': <tf.Tensor 'IteratorGetNext:88' shape=(None,) dtype=float64>, 'maxdiff_MeltingT': <tf.Tensor 'IteratorGetNext:66' shape=(None,) dtype=float64>, 'dev_MeltingT': <tf.Tensor 'IteratorGetNext:18' shape=(None,) dtype=float64>, 'max_MeltingT': <tf.Tensor 'IteratorGetNext:44' shape=(None,) dtype=float64>, 'min_MeltingT': <tf.Tensor 'IteratorGetNext:110' shape=(None,) dtype=float64>, 'most_MeltingT': <tf.Tensor 'IteratorGetNext:132' shape=(None,) dtype=float64>, 'mean_Column': <tf.Tensor 'IteratorGetNext:82' shape=(None,) dtype=float64>, 'maxdiff_Column': <tf.Tensor 'IteratorGetNext:60' shape=(None,) dtype=int64>, 'dev_Column': <tf.Tensor 'IteratorGetNext:12' shape=(None,) dtype=float64>, 'max_Column': <tf.Tensor 'IteratorGetNext:38' shape=(None,) dtype=int64>, 'min_Column': <tf.Tensor 'IteratorGetNext:104' shape=(None,) dtype=int64>, 'most_Column': <tf.Tensor 'IteratorGetNext:126' shape=(None,) dtype=float64>, 'mean_Row': <tf.Tensor 'IteratorGetNext:101' shape=(None,) dtype=float64>, 'maxdiff_Row': <tf.Tensor 'IteratorGetNext:79' shape=(None,) dtype=int64>, 'dev_Row': <tf.Tensor 'IteratorGetNext:31' shape=(None,) dtype=float64>, 'max_Row': <tf.Tensor 'IteratorGetNext:57' shape=(None,) dtype=int64>, 'min_Row': <tf.Tensor 'IteratorGetNext:123' shape=(None,) dtype=int64>, 'most_Row': <tf.Tensor 'IteratorGetNext:145' shape=(None,) dtype=float64>, 'mean_CovalentRadius': <tf.Tensor 'IteratorGetNext:83' shape=(None,) dtype=float64>, 'maxdiff_CovalentRadius': <tf.Tensor 'IteratorGetNext:61' shape=(None,) dtype=int64>, 'dev_CovalentRadius': <tf.Tensor 'IteratorGetNext:13' shape=(None,) dtype=float64>, 'max_CovalentRadius': <tf.Tensor 'IteratorGetNext:39' shape=(None,) dtype=int64>, 'min_CovalentRadius': <tf.Tensor 'IteratorGetNext:105' shape=(None,) dtype=int64>, 'most_CovalentRadius': <tf.Tensor 'IteratorGetNext:127' shape=(None,) dtype=float64>, 'mean_Electronegativity': <tf.Tensor 'IteratorGetNext:84' shape=(None,) dtype=float64>, 'maxdiff_Electronegativity': <tf.Tensor 'IteratorGetNext:62' shape=(None,) dtype=float64>, 'dev_Electronegativity': <tf.Tensor 'IteratorGetNext:14' shape=(None,) dtype=float64>, 'max_Electronegativity': <tf.Tensor 'IteratorGetNext:40' shape=(None,) dtype=float64>, 'min_Electronegativity': <tf.Tensor 'IteratorGetNext:106' shape=(None,) dtype=float64>, 'most_Electronegativity': <tf.Tensor 'IteratorGetNext:128' shape=(None,) dtype=float64>, 'mean_NsValence': <tf.Tensor 'IteratorGetNext:99' shape=(None,) dtype=float64>, 'maxdiff_NsValence': <tf.Tensor 'IteratorGetNext:77' shape=(None,) dtype=int64>, 'dev_NsValence': <tf.Tensor 'IteratorGetNext:29' shape=(None,) dtype=float64>, 'max_NsValence': <tf.Tensor 'IteratorGetNext:55' shape=(None,) dtype=int64>, 'min_NsValence': <tf.Tensor 'IteratorGetNext:121' shape=(None,) dtype=int64>, 'most_NsValence': <tf.Tensor 'IteratorGetNext:143' shape=(None,) dtype=float64>, 'mean_NpValence': <tf.Tensor 'IteratorGetNext:97' shape=(None,) dtype=float64>, 'maxdiff_NpValence': <tf.Tensor 'IteratorGetNext:75' shape=(None,) dtype=int64>, 'dev_NpValence': <tf.Tensor 'IteratorGetNext:27' shape=(None,) dtype=float64>, 'max_NpValence': <tf.Tensor 'IteratorGetNext:53' shape=(None,) dtype=int64>, 'min_NpValence': <tf.Tensor 'IteratorGetNext:119' shape=(None,) dtype=int64>, 'most_NpValence': <tf.Tensor 'IteratorGetNext:141' shape=(None,) dtype=float64>, 'mean_NdValence': <tf.Tensor 'IteratorGetNext:93' shape=(None,) dtype=float64>, 'maxdiff_NdValence': <tf.Tensor 'IteratorGetNext:71' shape=(None,) dtype=int64>, 'dev_NdValence': <tf.Tensor 'IteratorGetNext:23' shape=(None,) dtype=float64>, 'max_NdValence': <tf.Tensor 'IteratorGetNext:49' shape=(None,) dtype=int64>, 'min_NdValence': <tf.Tensor 'IteratorGetNext:115' shape=(None,) dtype=int64>, 'most_NdValence': <tf.Tensor 'IteratorGetNext:137' shape=(None,) dtype=float64>, 'mean_NfValence': <tf.Tensor 'IteratorGetNext:95' shape=(None,) dtype=float64>, 'maxdiff_NfValence': <tf.Tensor 'IteratorGetNext:73' shape=(None,) dtype=int64>, 'dev_NfValence': <tf.Tensor 'IteratorGetNext:25' shape=(None,) dtype=float64>, 'max_NfValence': <tf.Tensor 'IteratorGetNext:51' shape=(None,) dtype=int64>, 'min_NfValence': <tf.Tensor 'IteratorGetNext:117' shape=(None,) dtype=int64>, 'most_NfValence': <tf.Tensor 'IteratorGetNext:139' shape=(None,) dtype=float64>, 'mean_NValance': <tf.Tensor 'IteratorGetNext:91' shape=(None,) dtype=float64>, 'maxdiff_NValance': <tf.Tensor 'IteratorGetNext:69' shape=(None,) dtype=int64>, 'dev_NValance': <tf.Tensor 'IteratorGetNext:21' shape=(None,) dtype=float64>, 'max_NValance': <tf.Tensor 'IteratorGetNext:47' shape=(None,) dtype=int64>, 'min_NValance': <tf.Tensor 'IteratorGetNext:113' shape=(None,) dtype=int64>, 'most_NValance': <tf.Tensor 'IteratorGetNext:135' shape=(None,) dtype=float64>, 'mean_NsUnfilled': <tf.Tensor 'IteratorGetNext:98' shape=(None,) dtype=float64>, 'maxdiff_NsUnfilled': <tf.Tensor 'IteratorGetNext:76' shape=(None,) dtype=int64>, 'dev_NsUnfilled': <tf.Tensor 'IteratorGetNext:28' shape=(None,) dtype=float64>, 'max_NsUnfilled': <tf.Tensor 'IteratorGetNext:54' shape=(None,) dtype=int64>, 'min_NsUnfilled': <tf.Tensor 'IteratorGetNext:120' shape=(None,) dtype=int64>, 'most_NsUnfilled': <tf.Tensor 'IteratorGetNext:142' shape=(None,) dtype=float64>, 'mean_NpUnfilled': <tf.Tensor 'IteratorGetNext:96' shape=(None,) dtype=float64>, 'maxdiff_NpUnfilled': <tf.Tensor 'IteratorGetNext:74' shape=(None,) dtype=int64>, 'dev_NpUnfilled': <tf.Tensor 'IteratorGetNext:26' shape=(None,) dtype=float64>, 'max_NpUnfilled': <tf.Tensor 'IteratorGetNext:52' shape=(None,) dtype=int64>, 'min_NpUnfilled': <tf.Tensor 'IteratorGetNext:118' shape=(None,) dtype=int64>, 'most_NpUnfilled': <tf.Tensor 'IteratorGetNext:140' shape=(None,) dtype=float64>, 'mean_NdUnfilled': <tf.Tensor 'IteratorGetNext:92' shape=(None,) dtype=float64>, 'maxdiff_NdUnfilled': <tf.Tensor 'IteratorGetNext:70' shape=(None,) dtype=int64>, 'dev_NdUnfilled': <tf.Tensor 'IteratorGetNext:22' shape=(None,) dtype=float64>, 'max_NdUnfilled': <tf.Tensor 'IteratorGetNext:48' shape=(None,) dtype=int64>, 'min_NdUnfilled': <tf.Tensor 'IteratorGetNext:114' shape=(None,) dtype=int64>, 'most_NdUnfilled': <tf.Tensor 'IteratorGetNext:136' shape=(None,) dtype=float64>, 'mean_NfUnfilled': <tf.Tensor 'IteratorGetNext:94' shape=(None,) dtype=float64>, 'maxdiff_NfUnfilled': <tf.Tensor 'IteratorGetNext:72' shape=(None,) dtype=int64>, 'dev_NfUnfilled': <tf.Tensor 'IteratorGetNext:24' shape=(None,) dtype=float64>, 'max_NfUnfilled': <tf.Tensor 'IteratorGetNext:50' shape=(None,) dtype=int64>, 'min_NfUnfilled': <tf.Tensor 'IteratorGetNext:116' shape=(None,) dtype=int64>, 'most_NfUnfilled': <tf.Tensor 'IteratorGetNext:138' shape=(None,) dtype=float64>, 'mean_NUnfilled': <tf.Tensor 'IteratorGetNext:90' shape=(None,) dtype=float64>, 'maxdiff_NUnfilled': <tf.Tensor 'IteratorGetNext:68' shape=(None,) dtype=int64>, 'dev_NUnfilled': <tf.Tensor 'IteratorGetNext:20' shape=(None,) dtype=float64>, 'max_NUnfilled': <tf.Tensor 'IteratorGetNext:46' shape=(None,) dtype=int64>, 'min_NUnfilled': <tf.Tensor 'IteratorGetNext:112' shape=(None,) dtype=int64>, 'most_NUnfilled': <tf.Tensor 'IteratorGetNext:134' shape=(None,) dtype=float64>, 'mean_GSvolume_pa': <tf.Tensor 'IteratorGetNext:87' shape=(None,) dtype=float64>, 'maxdiff_GSvolume_pa': <tf.Tensor 'IteratorGetNext:65' shape=(None,) dtype=float64>, 'dev_GSvolume_pa': <tf.Tensor 'IteratorGetNext:17' shape=(None,) dtype=float64>, 'max_GSvolume_pa': <tf.Tensor 'IteratorGetNext:43' shape=(None,) dtype=float64>, 'min_GSvolume_pa': <tf.Tensor 'IteratorGetNext:109' shape=(None,) dtype=float64>, 'most_GSvolume_pa': <tf.Tensor 'IteratorGetNext:131' shape=(None,) dtype=float64>, 'mean_GSbandgap': <tf.Tensor 'IteratorGetNext:85' shape=(None,) dtype=float64>, 'maxdiff_GSbandgap': <tf.Tensor 'IteratorGetNext:63' shape=(None,) dtype=float64>, 'dev_GSbandgap': <tf.Tensor 'IteratorGetNext:15' shape=(None,) dtype=float64>, 'max_GSbandgap': <tf.Tensor 'IteratorGetNext:41' shape=(None,) dtype=float64>, 'min_GSbandgap': <tf.Tensor 'IteratorGetNext:107' shape=(None,) dtype=float64>, 'most_GSbandgap': <tf.Tensor 'IteratorGetNext:129' shape=(None,) dtype=float64>, 'mean_GSmagmom': <tf.Tensor 'IteratorGetNext:86' shape=(None,) dtype=float64>, 'maxdiff_GSmagmom': <tf.Tensor 'IteratorGetNext:64' shape=(None,) dtype=float64>, 'dev_GSmagmom': <tf.Tensor 'IteratorGetNext:16' shape=(None,) dtype=float64>, 'max_GSmagmom': <tf.Tensor 'IteratorGetNext:42' shape=(None,) dtype=float64>, 'min_GSmagmom': <tf.Tensor 'IteratorGetNext:108' shape=(None,) dtype=float64>, 'most_GSmagmom': <tf.Tensor 'IteratorGetNext:130' shape=(None,) dtype=float64>, 'mean_SpaceGroupNumber': <tf.Tensor 'IteratorGetNext:102' shape=(None,) dtype=float64>, 'maxdiff_SpaceGroupNumber': <tf.Tensor 'IteratorGetNext:80' shape=(None,) dtype=int64>, 'dev_SpaceGroupNumber': <tf.Tensor 'IteratorGetNext:32' shape=(None,) dtype=float64>, 'max_SpaceGroupNumber': <tf.Tensor 'IteratorGetNext:58' shape=(None,) dtype=int64>, 'min_SpaceGroupNumber': <tf.Tensor 'IteratorGetNext:124' shape=(None,) dtype=int64>, 'most_SpaceGroupNumber': <tf.Tensor 'IteratorGetNext:146' shape=(None,) dtype=float64>, 'frac_sValence': <tf.Tensor 'IteratorGetNext:36' shape=(None,) dtype=float64>, 'frac_pValence': <tf.Tensor 'IteratorGetNext:35' shape=(None,) dtype=float64>, 'frac_dValence': <tf.Tensor 'IteratorGetNext:33' shape=(None,) dtype=float64>, 'frac_fValence': <tf.Tensor 'IteratorGetNext:34' shape=(None,) dtype=float64>, 'CanFormIonic': <tf.Tensor 'IteratorGetNext:0' shape=(None,) dtype=int64>, 'MaxIonicChar': <tf.Tensor 'IteratorGetNext:7' shape=(None,) dtype=float64>, 'MeanIonicChar': <tf.Tensor 'IteratorGetNext:8' shape=(None,) dtype=float64>, 'Index': <tf.Tensor 'IteratorGetNext:6' shape=(None,) dtype=int64>, 'TotalEnergy': <tf.Tensor 'IteratorGetNext:10' shape=(None,) dtype=float64>}. Consider rewriting this model with the Functional API.\n"
     ]
    },
    {
     "name": "stdout",
     "output_type": "stream",
     "text": [
      "884/884 [==============================] - ETA: 0s - loss: 1.4070 - accuracy: 0.8524WARNING:tensorflow:Layers in a Sequential model should only have a single input tensor. Received: inputs={'NComp': <tf.Tensor 'IteratorGetNext:9' shape=(None,) dtype=int64>, 'Comp_L2Norm': <tf.Tensor 'IteratorGetNext:2' shape=(None,) dtype=float64>, 'Comp_L3Norm': <tf.Tensor 'IteratorGetNext:3' shape=(None,) dtype=float64>, 'Comp_L5Norm': <tf.Tensor 'IteratorGetNext:4' shape=(None,) dtype=float64>, 'Comp_L7Norm': <tf.Tensor 'IteratorGetNext:5' shape=(None,) dtype=float64>, 'Comp_L10Norm': <tf.Tensor 'IteratorGetNext:1' shape=(None,) dtype=float64>, 'mean_Number': <tf.Tensor 'IteratorGetNext:100' shape=(None,) dtype=float64>, 'maxdiff_Number': <tf.Tensor 'IteratorGetNext:78' shape=(None,) dtype=int64>, 'dev_Number': <tf.Tensor 'IteratorGetNext:30' shape=(None,) dtype=float64>, 'max_Number': <tf.Tensor 'IteratorGetNext:56' shape=(None,) dtype=int64>, 'min_Number': <tf.Tensor 'IteratorGetNext:122' shape=(None,) dtype=int64>, 'most_Number': <tf.Tensor 'IteratorGetNext:144' shape=(None,) dtype=float64>, 'mean_MendeleevNumber': <tf.Tensor 'IteratorGetNext:89' shape=(None,) dtype=float64>, 'maxdiff_MendeleevNumber': <tf.Tensor 'IteratorGetNext:67' shape=(None,) dtype=int64>, 'dev_MendeleevNumber': <tf.Tensor 'IteratorGetNext:19' shape=(None,) dtype=float64>, 'max_MendeleevNumber': <tf.Tensor 'IteratorGetNext:45' shape=(None,) dtype=int64>, 'min_MendeleevNumber': <tf.Tensor 'IteratorGetNext:111' shape=(None,) dtype=int64>, 'most_MendeleevNumber': <tf.Tensor 'IteratorGetNext:133' shape=(None,) dtype=float64>, 'mean_AtomicWeight': <tf.Tensor 'IteratorGetNext:81' shape=(None,) dtype=float64>, 'maxdiff_AtomicWeight': <tf.Tensor 'IteratorGetNext:59' shape=(None,) dtype=float64>, 'dev_AtomicWeight': <tf.Tensor 'IteratorGetNext:11' shape=(None,) dtype=float64>, 'max_AtomicWeight': <tf.Tensor 'IteratorGetNext:37' shape=(None,) dtype=float64>, 'min_AtomicWeight': <tf.Tensor 'IteratorGetNext:103' shape=(None,) dtype=float64>, 'most_AtomicWeight': <tf.Tensor 'IteratorGetNext:125' shape=(None,) dtype=float64>, 'mean_MeltingT': <tf.Tensor 'IteratorGetNext:88' shape=(None,) dtype=float64>, 'maxdiff_MeltingT': <tf.Tensor 'IteratorGetNext:66' shape=(None,) dtype=float64>, 'dev_MeltingT': <tf.Tensor 'IteratorGetNext:18' shape=(None,) dtype=float64>, 'max_MeltingT': <tf.Tensor 'IteratorGetNext:44' shape=(None,) dtype=float64>, 'min_MeltingT': <tf.Tensor 'IteratorGetNext:110' shape=(None,) dtype=float64>, 'most_MeltingT': <tf.Tensor 'IteratorGetNext:132' shape=(None,) dtype=float64>, 'mean_Column': <tf.Tensor 'IteratorGetNext:82' shape=(None,) dtype=float64>, 'maxdiff_Column': <tf.Tensor 'IteratorGetNext:60' shape=(None,) dtype=int64>, 'dev_Column': <tf.Tensor 'IteratorGetNext:12' shape=(None,) dtype=float64>, 'max_Column': <tf.Tensor 'IteratorGetNext:38' shape=(None,) dtype=int64>, 'min_Column': <tf.Tensor 'IteratorGetNext:104' shape=(None,) dtype=int64>, 'most_Column': <tf.Tensor 'IteratorGetNext:126' shape=(None,) dtype=float64>, 'mean_Row': <tf.Tensor 'IteratorGetNext:101' shape=(None,) dtype=float64>, 'maxdiff_Row': <tf.Tensor 'IteratorGetNext:79' shape=(None,) dtype=int64>, 'dev_Row': <tf.Tensor 'IteratorGetNext:31' shape=(None,) dtype=float64>, 'max_Row': <tf.Tensor 'IteratorGetNext:57' shape=(None,) dtype=int64>, 'min_Row': <tf.Tensor 'IteratorGetNext:123' shape=(None,) dtype=int64>, 'most_Row': <tf.Tensor 'IteratorGetNext:145' shape=(None,) dtype=float64>, 'mean_CovalentRadius': <tf.Tensor 'IteratorGetNext:83' shape=(None,) dtype=float64>, 'maxdiff_CovalentRadius': <tf.Tensor 'IteratorGetNext:61' shape=(None,) dtype=int64>, 'dev_CovalentRadius': <tf.Tensor 'IteratorGetNext:13' shape=(None,) dtype=float64>, 'max_CovalentRadius': <tf.Tensor 'IteratorGetNext:39' shape=(None,) dtype=int64>, 'min_CovalentRadius': <tf.Tensor 'IteratorGetNext:105' shape=(None,) dtype=int64>, 'most_CovalentRadius': <tf.Tensor 'IteratorGetNext:127' shape=(None,) dtype=float64>, 'mean_Electronegativity': <tf.Tensor 'IteratorGetNext:84' shape=(None,) dtype=float64>, 'maxdiff_Electronegativity': <tf.Tensor 'IteratorGetNext:62' shape=(None,) dtype=float64>, 'dev_Electronegativity': <tf.Tensor 'IteratorGetNext:14' shape=(None,) dtype=float64>, 'max_Electronegativity': <tf.Tensor 'IteratorGetNext:40' shape=(None,) dtype=float64>, 'min_Electronegativity': <tf.Tensor 'IteratorGetNext:106' shape=(None,) dtype=float64>, 'most_Electronegativity': <tf.Tensor 'IteratorGetNext:128' shape=(None,) dtype=float64>, 'mean_NsValence': <tf.Tensor 'IteratorGetNext:99' shape=(None,) dtype=float64>, 'maxdiff_NsValence': <tf.Tensor 'IteratorGetNext:77' shape=(None,) dtype=int64>, 'dev_NsValence': <tf.Tensor 'IteratorGetNext:29' shape=(None,) dtype=float64>, 'max_NsValence': <tf.Tensor 'IteratorGetNext:55' shape=(None,) dtype=int64>, 'min_NsValence': <tf.Tensor 'IteratorGetNext:121' shape=(None,) dtype=int64>, 'most_NsValence': <tf.Tensor 'IteratorGetNext:143' shape=(None,) dtype=float64>, 'mean_NpValence': <tf.Tensor 'IteratorGetNext:97' shape=(None,) dtype=float64>, 'maxdiff_NpValence': <tf.Tensor 'IteratorGetNext:75' shape=(None,) dtype=int64>, 'dev_NpValence': <tf.Tensor 'IteratorGetNext:27' shape=(None,) dtype=float64>, 'max_NpValence': <tf.Tensor 'IteratorGetNext:53' shape=(None,) dtype=int64>, 'min_NpValence': <tf.Tensor 'IteratorGetNext:119' shape=(None,) dtype=int64>, 'most_NpValence': <tf.Tensor 'IteratorGetNext:141' shape=(None,) dtype=float64>, 'mean_NdValence': <tf.Tensor 'IteratorGetNext:93' shape=(None,) dtype=float64>, 'maxdiff_NdValence': <tf.Tensor 'IteratorGetNext:71' shape=(None,) dtype=int64>, 'dev_NdValence': <tf.Tensor 'IteratorGetNext:23' shape=(None,) dtype=float64>, 'max_NdValence': <tf.Tensor 'IteratorGetNext:49' shape=(None,) dtype=int64>, 'min_NdValence': <tf.Tensor 'IteratorGetNext:115' shape=(None,) dtype=int64>, 'most_NdValence': <tf.Tensor 'IteratorGetNext:137' shape=(None,) dtype=float64>, 'mean_NfValence': <tf.Tensor 'IteratorGetNext:95' shape=(None,) dtype=float64>, 'maxdiff_NfValence': <tf.Tensor 'IteratorGetNext:73' shape=(None,) dtype=int64>, 'dev_NfValence': <tf.Tensor 'IteratorGetNext:25' shape=(None,) dtype=float64>, 'max_NfValence': <tf.Tensor 'IteratorGetNext:51' shape=(None,) dtype=int64>, 'min_NfValence': <tf.Tensor 'IteratorGetNext:117' shape=(None,) dtype=int64>, 'most_NfValence': <tf.Tensor 'IteratorGetNext:139' shape=(None,) dtype=float64>, 'mean_NValance': <tf.Tensor 'IteratorGetNext:91' shape=(None,) dtype=float64>, 'maxdiff_NValance': <tf.Tensor 'IteratorGetNext:69' shape=(None,) dtype=int64>, 'dev_NValance': <tf.Tensor 'IteratorGetNext:21' shape=(None,) dtype=float64>, 'max_NValance': <tf.Tensor 'IteratorGetNext:47' shape=(None,) dtype=int64>, 'min_NValance': <tf.Tensor 'IteratorGetNext:113' shape=(None,) dtype=int64>, 'most_NValance': <tf.Tensor 'IteratorGetNext:135' shape=(None,) dtype=float64>, 'mean_NsUnfilled': <tf.Tensor 'IteratorGetNext:98' shape=(None,) dtype=float64>, 'maxdiff_NsUnfilled': <tf.Tensor 'IteratorGetNext:76' shape=(None,) dtype=int64>, 'dev_NsUnfilled': <tf.Tensor 'IteratorGetNext:28' shape=(None,) dtype=float64>, 'max_NsUnfilled': <tf.Tensor 'IteratorGetNext:54' shape=(None,) dtype=int64>, 'min_NsUnfilled': <tf.Tensor 'IteratorGetNext:120' shape=(None,) dtype=int64>, 'most_NsUnfilled': <tf.Tensor 'IteratorGetNext:142' shape=(None,) dtype=float64>, 'mean_NpUnfilled': <tf.Tensor 'IteratorGetNext:96' shape=(None,) dtype=float64>, 'maxdiff_NpUnfilled': <tf.Tensor 'IteratorGetNext:74' shape=(None,) dtype=int64>, 'dev_NpUnfilled': <tf.Tensor 'IteratorGetNext:26' shape=(None,) dtype=float64>, 'max_NpUnfilled': <tf.Tensor 'IteratorGetNext:52' shape=(None,) dtype=int64>, 'min_NpUnfilled': <tf.Tensor 'IteratorGetNext:118' shape=(None,) dtype=int64>, 'most_NpUnfilled': <tf.Tensor 'IteratorGetNext:140' shape=(None,) dtype=float64>, 'mean_NdUnfilled': <tf.Tensor 'IteratorGetNext:92' shape=(None,) dtype=float64>, 'maxdiff_NdUnfilled': <tf.Tensor 'IteratorGetNext:70' shape=(None,) dtype=int64>, 'dev_NdUnfilled': <tf.Tensor 'IteratorGetNext:22' shape=(None,) dtype=float64>, 'max_NdUnfilled': <tf.Tensor 'IteratorGetNext:48' shape=(None,) dtype=int64>, 'min_NdUnfilled': <tf.Tensor 'IteratorGetNext:114' shape=(None,) dtype=int64>, 'most_NdUnfilled': <tf.Tensor 'IteratorGetNext:136' shape=(None,) dtype=float64>, 'mean_NfUnfilled': <tf.Tensor 'IteratorGetNext:94' shape=(None,) dtype=float64>, 'maxdiff_NfUnfilled': <tf.Tensor 'IteratorGetNext:72' shape=(None,) dtype=int64>, 'dev_NfUnfilled': <tf.Tensor 'IteratorGetNext:24' shape=(None,) dtype=float64>, 'max_NfUnfilled': <tf.Tensor 'IteratorGetNext:50' shape=(None,) dtype=int64>, 'min_NfUnfilled': <tf.Tensor 'IteratorGetNext:116' shape=(None,) dtype=int64>, 'most_NfUnfilled': <tf.Tensor 'IteratorGetNext:138' shape=(None,) dtype=float64>, 'mean_NUnfilled': <tf.Tensor 'IteratorGetNext:90' shape=(None,) dtype=float64>, 'maxdiff_NUnfilled': <tf.Tensor 'IteratorGetNext:68' shape=(None,) dtype=int64>, 'dev_NUnfilled': <tf.Tensor 'IteratorGetNext:20' shape=(None,) dtype=float64>, 'max_NUnfilled': <tf.Tensor 'IteratorGetNext:46' shape=(None,) dtype=int64>, 'min_NUnfilled': <tf.Tensor 'IteratorGetNext:112' shape=(None,) dtype=int64>, 'most_NUnfilled': <tf.Tensor 'IteratorGetNext:134' shape=(None,) dtype=float64>, 'mean_GSvolume_pa': <tf.Tensor 'IteratorGetNext:87' shape=(None,) dtype=float64>, 'maxdiff_GSvolume_pa': <tf.Tensor 'IteratorGetNext:65' shape=(None,) dtype=float64>, 'dev_GSvolume_pa': <tf.Tensor 'IteratorGetNext:17' shape=(None,) dtype=float64>, 'max_GSvolume_pa': <tf.Tensor 'IteratorGetNext:43' shape=(None,) dtype=float64>, 'min_GSvolume_pa': <tf.Tensor 'IteratorGetNext:109' shape=(None,) dtype=float64>, 'most_GSvolume_pa': <tf.Tensor 'IteratorGetNext:131' shape=(None,) dtype=float64>, 'mean_GSbandgap': <tf.Tensor 'IteratorGetNext:85' shape=(None,) dtype=float64>, 'maxdiff_GSbandgap': <tf.Tensor 'IteratorGetNext:63' shape=(None,) dtype=float64>, 'dev_GSbandgap': <tf.Tensor 'IteratorGetNext:15' shape=(None,) dtype=float64>, 'max_GSbandgap': <tf.Tensor 'IteratorGetNext:41' shape=(None,) dtype=float64>, 'min_GSbandgap': <tf.Tensor 'IteratorGetNext:107' shape=(None,) dtype=float64>, 'most_GSbandgap': <tf.Tensor 'IteratorGetNext:129' shape=(None,) dtype=float64>, 'mean_GSmagmom': <tf.Tensor 'IteratorGetNext:86' shape=(None,) dtype=float64>, 'maxdiff_GSmagmom': <tf.Tensor 'IteratorGetNext:64' shape=(None,) dtype=float64>, 'dev_GSmagmom': <tf.Tensor 'IteratorGetNext:16' shape=(None,) dtype=float64>, 'max_GSmagmom': <tf.Tensor 'IteratorGetNext:42' shape=(None,) dtype=float64>, 'min_GSmagmom': <tf.Tensor 'IteratorGetNext:108' shape=(None,) dtype=float64>, 'most_GSmagmom': <tf.Tensor 'IteratorGetNext:130' shape=(None,) dtype=float64>, 'mean_SpaceGroupNumber': <tf.Tensor 'IteratorGetNext:102' shape=(None,) dtype=float64>, 'maxdiff_SpaceGroupNumber': <tf.Tensor 'IteratorGetNext:80' shape=(None,) dtype=int64>, 'dev_SpaceGroupNumber': <tf.Tensor 'IteratorGetNext:32' shape=(None,) dtype=float64>, 'max_SpaceGroupNumber': <tf.Tensor 'IteratorGetNext:58' shape=(None,) dtype=int64>, 'min_SpaceGroupNumber': <tf.Tensor 'IteratorGetNext:124' shape=(None,) dtype=int64>, 'most_SpaceGroupNumber': <tf.Tensor 'IteratorGetNext:146' shape=(None,) dtype=float64>, 'frac_sValence': <tf.Tensor 'IteratorGetNext:36' shape=(None,) dtype=float64>, 'frac_pValence': <tf.Tensor 'IteratorGetNext:35' shape=(None,) dtype=float64>, 'frac_dValence': <tf.Tensor 'IteratorGetNext:33' shape=(None,) dtype=float64>, 'frac_fValence': <tf.Tensor 'IteratorGetNext:34' shape=(None,) dtype=float64>, 'CanFormIonic': <tf.Tensor 'IteratorGetNext:0' shape=(None,) dtype=int64>, 'MaxIonicChar': <tf.Tensor 'IteratorGetNext:7' shape=(None,) dtype=float64>, 'MeanIonicChar': <tf.Tensor 'IteratorGetNext:8' shape=(None,) dtype=float64>, 'Index': <tf.Tensor 'IteratorGetNext:6' shape=(None,) dtype=int64>, 'TotalEnergy': <tf.Tensor 'IteratorGetNext:10' shape=(None,) dtype=float64>}. Consider rewriting this model with the Functional API.\n"
     ]
    },
    {
     "name": "stdout",
     "output_type": "stream",
     "text": [
      "884/884 [==============================] - 8s 6ms/step - loss: 1.4070 - accuracy: 0.8524 - val_loss: 0.5562 - val_accuracy: 0.8878\n",
      "Epoch 2/5\n",
      "884/884 [==============================] - 6s 5ms/step - loss: 0.4575 - accuracy: 0.8706 - val_loss: 0.2772 - val_accuracy: 0.8812\n",
      "Epoch 3/5\n",
      "884/884 [==============================] - 6s 5ms/step - loss: 0.3398 - accuracy: 0.8781 - val_loss: 0.3275 - val_accuracy: 0.8578\n",
      "Epoch 4/5\n",
      "884/884 [==============================] - 6s 5ms/step - loss: 0.2800 - accuracy: 0.8871 - val_loss: 0.2368 - val_accuracy: 0.8888\n",
      "Epoch 5/5\n",
      "884/884 [==============================] - 6s 5ms/step - loss: 0.2511 - accuracy: 0.8933 - val_loss: 0.2388 - val_accuracy: 0.8977\n"
     ]
    },
    {
     "data": {
      "text/plain": [
       "<keras.callbacks.History at 0x219aa8801f0>"
      ]
     },
     "execution_count": 14,
     "metadata": {},
     "output_type": "execute_result"
    }
   ],
   "source": [
    "model = tf.keras.Sequential([\n",
    "  feature_layer,\n",
    "  layers.Dense(128, activation='relu'),\n",
    "  layers.Dense(128, activation='relu'),\n",
    "  layers.Dense(1, activation='sigmoid')\n",
    "])\n",
    "\n",
    "model.compile(optimizer='adam',\n",
    "              loss='binary_crossentropy',\n",
    "              metrics=['accuracy'])\n",
    "\n",
    "model.fit(train_ds,\n",
    "          validation_data=val_ds,\n",
    "          epochs=5)"
   ]
  },
  {
   "cell_type": "code",
   "execution_count": null,
   "id": "ecad6987",
   "metadata": {},
   "outputs": [],
   "source": []
  }
 ],
 "metadata": {
  "kernelspec": {
   "display_name": "Python 3 (ipykernel)",
   "language": "python",
   "name": "python3"
  },
  "language_info": {
   "codemirror_mode": {
    "name": "ipython",
    "version": 3
   },
   "file_extension": ".py",
   "mimetype": "text/x-python",
   "name": "python",
   "nbconvert_exporter": "python",
   "pygments_lexer": "ipython3",
   "version": "3.9.7"
  }
 },
 "nbformat": 4,
 "nbformat_minor": 5
}
