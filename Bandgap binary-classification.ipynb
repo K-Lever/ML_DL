{
 "cells": [
  {
   "cell_type": "code",
   "execution_count": 1,
   "id": "de24e718",
   "metadata": {},
   "outputs": [],
   "source": [
    "import sys\n",
    "assert sys.version_info >= (3, 5)\n",
    "\n",
    "import sklearn\n",
    "assert sklearn.__version__ >= \"0.20\"\n",
    "\n",
    "import numpy as np\n",
    "import os\n",
    "\n",
    "%matplotlib inline\n",
    "import matplotlib as mpl\n",
    "import matplotlib.pyplot as plt"
   ]
  },
  {
   "cell_type": "code",
   "execution_count": 2,
   "id": "7a6ae4eb",
   "metadata": {},
   "outputs": [],
   "source": [
    "PROJECT_ROOT_DIR = \".\"\n",
    "CHAPTER_ID = \"classification\"\n",
    "IMAGES_PATH = os.path.join(PROJECT_ROOT_DIR, \"images\", CHAPTER_ID)\n",
    "os.makedirs(IMAGES_PATH, exist_ok=True)\n",
    "\n",
    "def save_fig(fig_id, tight_layout=True, fig_extension=\"png\", resolution=300):\n",
    "    path = os.path.join(IMAGES_PATH, fig_id + \".\" + fig_extension)\n",
    "    print(\"Saving figure\", fig_id)\n",
    "    if tight_layout:\n",
    "        plt.tight_layout()\n",
    "    plt.savefig(path, format=fig_extension, dpi=resolution)"
   ]
  },
  {
   "cell_type": "code",
   "execution_count": 3,
   "id": "f7efe518",
   "metadata": {},
   "outputs": [],
   "source": [
    "import pandas as pd\n",
    "import os\n",
    "import tarfile\n",
    "import urllib.request\n",
    "\n",
    "ts=pd.read_csv(\"Features_testset.csv\")\n",
    "tv=pd.read_csv(\"Features_trainvalidation.csv\")"
   ]
  },
  {
   "cell_type": "code",
   "execution_count": 4,
   "id": "2b326b71",
   "metadata": {},
   "outputs": [
    {
     "data": {
      "text/html": [
       "<div>\n",
       "<style scoped>\n",
       "    .dataframe tbody tr th:only-of-type {\n",
       "        vertical-align: middle;\n",
       "    }\n",
       "\n",
       "    .dataframe tbody tr th {\n",
       "        vertical-align: top;\n",
       "    }\n",
       "\n",
       "    .dataframe thead th {\n",
       "        text-align: right;\n",
       "    }\n",
       "</style>\n",
       "<table border=\"1\" class=\"dataframe\">\n",
       "  <thead>\n",
       "    <tr style=\"text-align: right;\">\n",
       "      <th></th>\n",
       "      <th>NComp</th>\n",
       "      <th>Comp_L2Norm</th>\n",
       "      <th>Comp_L3Norm</th>\n",
       "      <th>Comp_L5Norm</th>\n",
       "      <th>Comp_L7Norm</th>\n",
       "      <th>Comp_L10Norm</th>\n",
       "      <th>mean_Number</th>\n",
       "      <th>maxdiff_Number</th>\n",
       "      <th>dev_Number</th>\n",
       "      <th>max_Number</th>\n",
       "      <th>...</th>\n",
       "      <th>frac_sValence</th>\n",
       "      <th>frac_pValence</th>\n",
       "      <th>frac_dValence</th>\n",
       "      <th>frac_fValence</th>\n",
       "      <th>CanFormIonic</th>\n",
       "      <th>MaxIonicChar</th>\n",
       "      <th>MeanIonicChar</th>\n",
       "      <th>Index</th>\n",
       "      <th>TotalEnergy</th>\n",
       "      <th>Bandgap</th>\n",
       "    </tr>\n",
       "  </thead>\n",
       "  <tbody>\n",
       "    <tr>\n",
       "      <th>0</th>\n",
       "      <td>1</td>\n",
       "      <td>1.000000</td>\n",
       "      <td>1.000000</td>\n",
       "      <td>1.000000</td>\n",
       "      <td>1.000000</td>\n",
       "      <td>1.000000</td>\n",
       "      <td>89.000000</td>\n",
       "      <td>0</td>\n",
       "      <td>0.000000</td>\n",
       "      <td>89</td>\n",
       "      <td>...</td>\n",
       "      <td>0.666667</td>\n",
       "      <td>0.0</td>\n",
       "      <td>0.333333</td>\n",
       "      <td>0.000000</td>\n",
       "      <td>0</td>\n",
       "      <td>0.000000</td>\n",
       "      <td>0.00000</td>\n",
       "      <td>1</td>\n",
       "      <td>-4.4803</td>\n",
       "      <td>0.0</td>\n",
       "    </tr>\n",
       "    <tr>\n",
       "      <th>1</th>\n",
       "      <td>1</td>\n",
       "      <td>1.000000</td>\n",
       "      <td>1.000000</td>\n",
       "      <td>1.000000</td>\n",
       "      <td>1.000000</td>\n",
       "      <td>1.000000</td>\n",
       "      <td>47.000000</td>\n",
       "      <td>0</td>\n",
       "      <td>0.000000</td>\n",
       "      <td>47</td>\n",
       "      <td>...</td>\n",
       "      <td>0.090909</td>\n",
       "      <td>0.0</td>\n",
       "      <td>0.909091</td>\n",
       "      <td>0.000000</td>\n",
       "      <td>0</td>\n",
       "      <td>0.000000</td>\n",
       "      <td>0.00000</td>\n",
       "      <td>5</td>\n",
       "      <td>-3.2681</td>\n",
       "      <td>0.0</td>\n",
       "    </tr>\n",
       "    <tr>\n",
       "      <th>2</th>\n",
       "      <td>2</td>\n",
       "      <td>0.745356</td>\n",
       "      <td>0.693361</td>\n",
       "      <td>0.670782</td>\n",
       "      <td>0.667408</td>\n",
       "      <td>0.666732</td>\n",
       "      <td>57.666667</td>\n",
       "      <td>32</td>\n",
       "      <td>14.222222</td>\n",
       "      <td>79</td>\n",
       "      <td>...</td>\n",
       "      <td>0.063830</td>\n",
       "      <td>0.0</td>\n",
       "      <td>0.638298</td>\n",
       "      <td>0.297872</td>\n",
       "      <td>0</td>\n",
       "      <td>0.088829</td>\n",
       "      <td>0.03948</td>\n",
       "      <td>9</td>\n",
       "      <td>-3.5294</td>\n",
       "      <td>0.0</td>\n",
       "    </tr>\n",
       "    <tr>\n",
       "      <th>3</th>\n",
       "      <td>2</td>\n",
       "      <td>0.745356</td>\n",
       "      <td>0.693361</td>\n",
       "      <td>0.670782</td>\n",
       "      <td>0.667408</td>\n",
       "      <td>0.666732</td>\n",
       "      <td>57.666667</td>\n",
       "      <td>32</td>\n",
       "      <td>14.222222</td>\n",
       "      <td>79</td>\n",
       "      <td>...</td>\n",
       "      <td>0.063830</td>\n",
       "      <td>0.0</td>\n",
       "      <td>0.638298</td>\n",
       "      <td>0.297872</td>\n",
       "      <td>0</td>\n",
       "      <td>0.088829</td>\n",
       "      <td>0.03948</td>\n",
       "      <td>13</td>\n",
       "      <td>-3.5643</td>\n",
       "      <td>0.0</td>\n",
       "    </tr>\n",
       "    <tr>\n",
       "      <th>4</th>\n",
       "      <td>2</td>\n",
       "      <td>0.745356</td>\n",
       "      <td>0.693361</td>\n",
       "      <td>0.670782</td>\n",
       "      <td>0.667408</td>\n",
       "      <td>0.666732</td>\n",
       "      <td>57.666667</td>\n",
       "      <td>32</td>\n",
       "      <td>14.222222</td>\n",
       "      <td>79</td>\n",
       "      <td>...</td>\n",
       "      <td>0.063830</td>\n",
       "      <td>0.0</td>\n",
       "      <td>0.638298</td>\n",
       "      <td>0.297872</td>\n",
       "      <td>0</td>\n",
       "      <td>0.088829</td>\n",
       "      <td>0.03948</td>\n",
       "      <td>17</td>\n",
       "      <td>-3.4825</td>\n",
       "      <td>0.0</td>\n",
       "    </tr>\n",
       "  </tbody>\n",
       "</table>\n",
       "<p>5 rows × 148 columns</p>\n",
       "</div>"
      ],
      "text/plain": [
       "   NComp  Comp_L2Norm  Comp_L3Norm  Comp_L5Norm  Comp_L7Norm  Comp_L10Norm  \\\n",
       "0      1     1.000000     1.000000     1.000000     1.000000      1.000000   \n",
       "1      1     1.000000     1.000000     1.000000     1.000000      1.000000   \n",
       "2      2     0.745356     0.693361     0.670782     0.667408      0.666732   \n",
       "3      2     0.745356     0.693361     0.670782     0.667408      0.666732   \n",
       "4      2     0.745356     0.693361     0.670782     0.667408      0.666732   \n",
       "\n",
       "   mean_Number  maxdiff_Number  dev_Number  max_Number  ...  frac_sValence  \\\n",
       "0    89.000000               0    0.000000          89  ...       0.666667   \n",
       "1    47.000000               0    0.000000          47  ...       0.090909   \n",
       "2    57.666667              32   14.222222          79  ...       0.063830   \n",
       "3    57.666667              32   14.222222          79  ...       0.063830   \n",
       "4    57.666667              32   14.222222          79  ...       0.063830   \n",
       "\n",
       "   frac_pValence  frac_dValence  frac_fValence  CanFormIonic  MaxIonicChar  \\\n",
       "0            0.0       0.333333       0.000000             0      0.000000   \n",
       "1            0.0       0.909091       0.000000             0      0.000000   \n",
       "2            0.0       0.638298       0.297872             0      0.088829   \n",
       "3            0.0       0.638298       0.297872             0      0.088829   \n",
       "4            0.0       0.638298       0.297872             0      0.088829   \n",
       "\n",
       "   MeanIonicChar  Index  TotalEnergy  Bandgap  \n",
       "0        0.00000      1      -4.4803      0.0  \n",
       "1        0.00000      5      -3.2681      0.0  \n",
       "2        0.03948      9      -3.5294      0.0  \n",
       "3        0.03948     13      -3.5643      0.0  \n",
       "4        0.03948     17      -3.4825      0.0  \n",
       "\n",
       "[5 rows x 148 columns]"
      ]
     },
     "execution_count": 4,
     "metadata": {},
     "output_type": "execute_result"
    }
   ],
   "source": [
    "tv.head()"
   ]
  },
  {
   "cell_type": "code",
   "execution_count": 5,
   "id": "6aa3e995",
   "metadata": {},
   "outputs": [
    {
     "name": "stdout",
     "output_type": "stream",
     "text": [
      "<class 'pandas.core.frame.DataFrame'>\n",
      "RangeIndex: 44174 entries, 0 to 44173\n",
      "Columns: 148 entries, NComp to Bandgap\n",
      "dtypes: float64(97), int64(51)\n",
      "memory usage: 49.9 MB\n"
     ]
    }
   ],
   "source": [
    "tv.info()"
   ]
  },
  {
   "cell_type": "code",
   "execution_count": 6,
   "id": "a6be14a5",
   "metadata": {},
   "outputs": [
    {
     "data": {
      "text/html": [
       "<div>\n",
       "<style scoped>\n",
       "    .dataframe tbody tr th:only-of-type {\n",
       "        vertical-align: middle;\n",
       "    }\n",
       "\n",
       "    .dataframe tbody tr th {\n",
       "        vertical-align: top;\n",
       "    }\n",
       "\n",
       "    .dataframe thead th {\n",
       "        text-align: right;\n",
       "    }\n",
       "</style>\n",
       "<table border=\"1\" class=\"dataframe\">\n",
       "  <thead>\n",
       "    <tr style=\"text-align: right;\">\n",
       "      <th></th>\n",
       "      <th>NComp</th>\n",
       "      <th>Comp_L2Norm</th>\n",
       "      <th>Comp_L3Norm</th>\n",
       "      <th>Comp_L5Norm</th>\n",
       "      <th>Comp_L7Norm</th>\n",
       "      <th>Comp_L10Norm</th>\n",
       "      <th>mean_Number</th>\n",
       "      <th>maxdiff_Number</th>\n",
       "      <th>dev_Number</th>\n",
       "      <th>max_Number</th>\n",
       "      <th>...</th>\n",
       "      <th>frac_sValence</th>\n",
       "      <th>frac_pValence</th>\n",
       "      <th>frac_dValence</th>\n",
       "      <th>frac_fValence</th>\n",
       "      <th>CanFormIonic</th>\n",
       "      <th>MaxIonicChar</th>\n",
       "      <th>MeanIonicChar</th>\n",
       "      <th>Index</th>\n",
       "      <th>TotalEnergy</th>\n",
       "      <th>Bandgap</th>\n",
       "    </tr>\n",
       "  </thead>\n",
       "  <tbody>\n",
       "    <tr>\n",
       "      <th>count</th>\n",
       "      <td>44174.000000</td>\n",
       "      <td>44174.000000</td>\n",
       "      <td>44174.000000</td>\n",
       "      <td>44174.000000</td>\n",
       "      <td>44174.000000</td>\n",
       "      <td>44174.000000</td>\n",
       "      <td>44174.000000</td>\n",
       "      <td>44174.000000</td>\n",
       "      <td>44174.000000</td>\n",
       "      <td>44174.000000</td>\n",
       "      <td>...</td>\n",
       "      <td>44174.000000</td>\n",
       "      <td>44174.000000</td>\n",
       "      <td>44174.000000</td>\n",
       "      <td>44174.000000</td>\n",
       "      <td>44174.000000</td>\n",
       "      <td>44174.000000</td>\n",
       "      <td>44174.000000</td>\n",
       "      <td>44174.000000</td>\n",
       "      <td>44174.000000</td>\n",
       "      <td>44174.000000</td>\n",
       "    </tr>\n",
       "    <tr>\n",
       "      <th>mean</th>\n",
       "      <td>2.921968</td>\n",
       "      <td>0.649572</td>\n",
       "      <td>0.584268</td>\n",
       "      <td>0.551721</td>\n",
       "      <td>0.543117</td>\n",
       "      <td>0.538253</td>\n",
       "      <td>39.136690</td>\n",
       "      <td>40.279486</td>\n",
       "      <td>14.351893</td>\n",
       "      <td>61.749264</td>\n",
       "      <td>...</td>\n",
       "      <td>0.225878</td>\n",
       "      <td>0.132151</td>\n",
       "      <td>0.439213</td>\n",
       "      <td>0.202758</td>\n",
       "      <td>0.215715</td>\n",
       "      <td>0.286594</td>\n",
       "      <td>0.108304</td>\n",
       "      <td>88347.000000</td>\n",
       "      <td>-5.720376</td>\n",
       "      <td>0.427692</td>\n",
       "    </tr>\n",
       "    <tr>\n",
       "      <th>std</th>\n",
       "      <td>0.572382</td>\n",
       "      <td>0.076830</td>\n",
       "      <td>0.097160</td>\n",
       "      <td>0.112877</td>\n",
       "      <td>0.119063</td>\n",
       "      <td>0.123463</td>\n",
       "      <td>16.441628</td>\n",
       "      <td>20.536967</td>\n",
       "      <td>7.818007</td>\n",
       "      <td>19.114566</td>\n",
       "      <td>...</td>\n",
       "      <td>0.145958</td>\n",
       "      <td>0.161999</td>\n",
       "      <td>0.228714</td>\n",
       "      <td>0.213150</td>\n",
       "      <td>0.411322</td>\n",
       "      <td>0.248945</td>\n",
       "      <td>0.102115</td>\n",
       "      <td>51008.318929</td>\n",
       "      <td>2.230297</td>\n",
       "      <td>1.196584</td>\n",
       "    </tr>\n",
       "    <tr>\n",
       "      <th>min</th>\n",
       "      <td>1.000000</td>\n",
       "      <td>0.447214</td>\n",
       "      <td>0.341995</td>\n",
       "      <td>0.275946</td>\n",
       "      <td>0.251700</td>\n",
       "      <td>0.234924</td>\n",
       "      <td>1.000000</td>\n",
       "      <td>0.000000</td>\n",
       "      <td>0.000000</td>\n",
       "      <td>1.000000</td>\n",
       "      <td>...</td>\n",
       "      <td>0.000000</td>\n",
       "      <td>0.000000</td>\n",
       "      <td>0.000000</td>\n",
       "      <td>0.000000</td>\n",
       "      <td>0.000000</td>\n",
       "      <td>0.000000</td>\n",
       "      <td>0.000000</td>\n",
       "      <td>1.000000</td>\n",
       "      <td>-15.154200</td>\n",
       "      <td>0.000000</td>\n",
       "    </tr>\n",
       "    <tr>\n",
       "      <th>25%</th>\n",
       "      <td>3.000000</td>\n",
       "      <td>0.600000</td>\n",
       "      <td>0.517872</td>\n",
       "      <td>0.481796</td>\n",
       "      <td>0.467168</td>\n",
       "      <td>0.459210</td>\n",
       "      <td>26.587500</td>\n",
       "      <td>25.000000</td>\n",
       "      <td>8.375925</td>\n",
       "      <td>48.000000</td>\n",
       "      <td>...</td>\n",
       "      <td>0.131579</td>\n",
       "      <td>0.000000</td>\n",
       "      <td>0.280000</td>\n",
       "      <td>0.000000</td>\n",
       "      <td>0.000000</td>\n",
       "      <td>0.097332</td>\n",
       "      <td>0.033707</td>\n",
       "      <td>44174.000000</td>\n",
       "      <td>-7.222000</td>\n",
       "      <td>0.000000</td>\n",
       "    </tr>\n",
       "    <tr>\n",
       "      <th>50%</th>\n",
       "      <td>3.000000</td>\n",
       "      <td>0.612372</td>\n",
       "      <td>0.538609</td>\n",
       "      <td>0.506099</td>\n",
       "      <td>0.501109</td>\n",
       "      <td>0.500098</td>\n",
       "      <td>38.000000</td>\n",
       "      <td>39.000000</td>\n",
       "      <td>13.719504</td>\n",
       "      <td>65.000000</td>\n",
       "      <td>...</td>\n",
       "      <td>0.187500</td>\n",
       "      <td>0.064516</td>\n",
       "      <td>0.444444</td>\n",
       "      <td>0.157003</td>\n",
       "      <td>0.000000</td>\n",
       "      <td>0.213451</td>\n",
       "      <td>0.073640</td>\n",
       "      <td>88347.000000</td>\n",
       "      <td>-5.601150</td>\n",
       "      <td>0.000000</td>\n",
       "    </tr>\n",
       "    <tr>\n",
       "      <th>75%</th>\n",
       "      <td>3.000000</td>\n",
       "      <td>0.707107</td>\n",
       "      <td>0.642563</td>\n",
       "      <td>0.615030</td>\n",
       "      <td>0.604895</td>\n",
       "      <td>0.601032</td>\n",
       "      <td>50.500000</td>\n",
       "      <td>56.000000</td>\n",
       "      <td>19.555556</td>\n",
       "      <td>78.000000</td>\n",
       "      <td>...</td>\n",
       "      <td>0.279070</td>\n",
       "      <td>0.195652</td>\n",
       "      <td>0.612903</td>\n",
       "      <td>0.384615</td>\n",
       "      <td>0.000000</td>\n",
       "      <td>0.391662</td>\n",
       "      <td>0.149160</td>\n",
       "      <td>132520.000000</td>\n",
       "      <td>-4.045900</td>\n",
       "      <td>0.000000</td>\n",
       "    </tr>\n",
       "    <tr>\n",
       "      <th>max</th>\n",
       "      <td>7.000000</td>\n",
       "      <td>1.000000</td>\n",
       "      <td>1.000000</td>\n",
       "      <td>1.000000</td>\n",
       "      <td>1.000000</td>\n",
       "      <td>1.000000</td>\n",
       "      <td>94.000000</td>\n",
       "      <td>93.000000</td>\n",
       "      <td>43.500000</td>\n",
       "      <td>94.000000</td>\n",
       "      <td>...</td>\n",
       "      <td>1.000000</td>\n",
       "      <td>0.714286</td>\n",
       "      <td>1.000000</td>\n",
       "      <td>0.866667</td>\n",
       "      <td>1.000000</td>\n",
       "      <td>0.921450</td>\n",
       "      <td>0.460725</td>\n",
       "      <td>176693.000000</td>\n",
       "      <td>-0.041300</td>\n",
       "      <td>10.117100</td>\n",
       "    </tr>\n",
       "  </tbody>\n",
       "</table>\n",
       "<p>8 rows × 148 columns</p>\n",
       "</div>"
      ],
      "text/plain": [
       "              NComp   Comp_L2Norm   Comp_L3Norm   Comp_L5Norm   Comp_L7Norm  \\\n",
       "count  44174.000000  44174.000000  44174.000000  44174.000000  44174.000000   \n",
       "mean       2.921968      0.649572      0.584268      0.551721      0.543117   \n",
       "std        0.572382      0.076830      0.097160      0.112877      0.119063   \n",
       "min        1.000000      0.447214      0.341995      0.275946      0.251700   \n",
       "25%        3.000000      0.600000      0.517872      0.481796      0.467168   \n",
       "50%        3.000000      0.612372      0.538609      0.506099      0.501109   \n",
       "75%        3.000000      0.707107      0.642563      0.615030      0.604895   \n",
       "max        7.000000      1.000000      1.000000      1.000000      1.000000   \n",
       "\n",
       "       Comp_L10Norm   mean_Number  maxdiff_Number    dev_Number    max_Number  \\\n",
       "count  44174.000000  44174.000000    44174.000000  44174.000000  44174.000000   \n",
       "mean       0.538253     39.136690       40.279486     14.351893     61.749264   \n",
       "std        0.123463     16.441628       20.536967      7.818007     19.114566   \n",
       "min        0.234924      1.000000        0.000000      0.000000      1.000000   \n",
       "25%        0.459210     26.587500       25.000000      8.375925     48.000000   \n",
       "50%        0.500098     38.000000       39.000000     13.719504     65.000000   \n",
       "75%        0.601032     50.500000       56.000000     19.555556     78.000000   \n",
       "max        1.000000     94.000000       93.000000     43.500000     94.000000   \n",
       "\n",
       "       ...  frac_sValence  frac_pValence  frac_dValence  frac_fValence  \\\n",
       "count  ...   44174.000000   44174.000000   44174.000000   44174.000000   \n",
       "mean   ...       0.225878       0.132151       0.439213       0.202758   \n",
       "std    ...       0.145958       0.161999       0.228714       0.213150   \n",
       "min    ...       0.000000       0.000000       0.000000       0.000000   \n",
       "25%    ...       0.131579       0.000000       0.280000       0.000000   \n",
       "50%    ...       0.187500       0.064516       0.444444       0.157003   \n",
       "75%    ...       0.279070       0.195652       0.612903       0.384615   \n",
       "max    ...       1.000000       0.714286       1.000000       0.866667   \n",
       "\n",
       "       CanFormIonic  MaxIonicChar  MeanIonicChar          Index   TotalEnergy  \\\n",
       "count  44174.000000  44174.000000   44174.000000   44174.000000  44174.000000   \n",
       "mean       0.215715      0.286594       0.108304   88347.000000     -5.720376   \n",
       "std        0.411322      0.248945       0.102115   51008.318929      2.230297   \n",
       "min        0.000000      0.000000       0.000000       1.000000    -15.154200   \n",
       "25%        0.000000      0.097332       0.033707   44174.000000     -7.222000   \n",
       "50%        0.000000      0.213451       0.073640   88347.000000     -5.601150   \n",
       "75%        0.000000      0.391662       0.149160  132520.000000     -4.045900   \n",
       "max        1.000000      0.921450       0.460725  176693.000000     -0.041300   \n",
       "\n",
       "            Bandgap  \n",
       "count  44174.000000  \n",
       "mean       0.427692  \n",
       "std        1.196584  \n",
       "min        0.000000  \n",
       "25%        0.000000  \n",
       "50%        0.000000  \n",
       "75%        0.000000  \n",
       "max       10.117100  \n",
       "\n",
       "[8 rows x 148 columns]"
      ]
     },
     "execution_count": 6,
     "metadata": {},
     "output_type": "execute_result"
    }
   ],
   "source": [
    "tv.describe()"
   ]
  },
  {
   "cell_type": "code",
   "execution_count": 7,
   "id": "88117af2",
   "metadata": {},
   "outputs": [
    {
     "data": {
      "text/plain": [
       "(44174, 148)"
      ]
     },
     "execution_count": 7,
     "metadata": {},
     "output_type": "execute_result"
    }
   ],
   "source": [
    "df=pd.DataFrame(tv)\n",
    "df.shape"
   ]
  },
  {
   "cell_type": "code",
   "execution_count": 8,
   "id": "5e765c6f",
   "metadata": {},
   "outputs": [],
   "source": [
    "feature_range = list(range(145))\n",
    "X=df.iloc[:, feature_range]\n",
    "y=df[\"Bandgap\"]\n",
    "some_digit=X.iloc[0]"
   ]
  },
  {
   "cell_type": "code",
   "execution_count": 9,
   "id": "b25e5df2",
   "metadata": {},
   "outputs": [
    {
     "data": {
      "text/plain": [
       "NComp            1.000000\n",
       "Comp_L2Norm      1.000000\n",
       "Comp_L3Norm      1.000000\n",
       "Comp_L5Norm      1.000000\n",
       "Comp_L7Norm      1.000000\n",
       "                   ...   \n",
       "frac_dValence    0.333333\n",
       "frac_fValence    0.000000\n",
       "CanFormIonic     0.000000\n",
       "MaxIonicChar     0.000000\n",
       "MeanIonicChar    0.000000\n",
       "Name: 0, Length: 145, dtype: float64"
      ]
     },
     "execution_count": 9,
     "metadata": {},
     "output_type": "execute_result"
    }
   ],
   "source": [
    "some_digit"
   ]
  },
  {
   "cell_type": "code",
   "execution_count": 10,
   "id": "a74eb8f5",
   "metadata": {
    "scrolled": true
   },
   "outputs": [
    {
     "data": {
      "text/plain": [
       "(44174, 145)"
      ]
     },
     "execution_count": 10,
     "metadata": {},
     "output_type": "execute_result"
    }
   ],
   "source": [
    "X.shape"
   ]
  },
  {
   "cell_type": "code",
   "execution_count": 11,
   "id": "97fb836b",
   "metadata": {},
   "outputs": [
    {
     "data": {
      "text/plain": [
       "(44174,)"
      ]
     },
     "execution_count": 11,
     "metadata": {},
     "output_type": "execute_result"
    }
   ],
   "source": [
    "y.shape"
   ]
  },
  {
   "cell_type": "code",
   "execution_count": 12,
   "id": "64e318be",
   "metadata": {},
   "outputs": [
    {
     "name": "stdout",
     "output_type": "stream",
     "text": [
      "<class 'pandas.core.frame.DataFrame'>\n"
     ]
    }
   ],
   "source": [
    "print(type(X))"
   ]
  },
  {
   "cell_type": "code",
   "execution_count": 13,
   "id": "1c4640bb",
   "metadata": {},
   "outputs": [],
   "source": [
    "X_train, X_test, y_train, y_test = X[:35000], X[35000:], y[:35000], y[35000:]"
   ]
  },
  {
   "cell_type": "code",
   "execution_count": 14,
   "id": "eeb70f8a",
   "metadata": {},
   "outputs": [],
   "source": [
    "y_train_Metal = (y_train == 0)\n",
    "y_test_Metal = (y_test == 0)"
   ]
  },
  {
   "cell_type": "code",
   "execution_count": 15,
   "id": "ae146107",
   "metadata": {},
   "outputs": [
    {
     "data": {
      "text/plain": [
       "SGDClassifier(random_state=42)"
      ]
     },
     "execution_count": 15,
     "metadata": {},
     "output_type": "execute_result"
    }
   ],
   "source": [
    "from sklearn.linear_model import SGDClassifier\n",
    "\n",
    "sgd_clf = SGDClassifier(max_iter=1000, tol=1e-3, random_state=42)\n",
    "sgd_clf.fit(X_train, y_train_Metal)"
   ]
  },
  {
   "cell_type": "code",
   "execution_count": 16,
   "id": "9428c108",
   "metadata": {},
   "outputs": [
    {
     "data": {
      "text/plain": [
       "array([ True])"
      ]
     },
     "execution_count": 16,
     "metadata": {},
     "output_type": "execute_result"
    }
   ],
   "source": [
    "sgd_clf.predict([some_digit])"
   ]
  },
  {
   "cell_type": "code",
   "execution_count": 17,
   "id": "16d9ba3a",
   "metadata": {},
   "outputs": [
    {
     "data": {
      "text/plain": [
       "array([0.82094797, 0.8378332 , 0.81621807])"
      ]
     },
     "execution_count": 17,
     "metadata": {},
     "output_type": "execute_result"
    }
   ],
   "source": [
    "from sklearn.model_selection import cross_val_score\n",
    "cross_val_score(sgd_clf, X_train, y_train_Metal, cv=3, scoring=\"accuracy\")"
   ]
  },
  {
   "cell_type": "code",
   "execution_count": 18,
   "id": "aa27d487",
   "metadata": {},
   "outputs": [
    {
     "data": {
      "text/plain": [
       "array([ True,  True,  True, ...,  True,  True,  True])"
      ]
     },
     "execution_count": 18,
     "metadata": {},
     "output_type": "execute_result"
    }
   ],
   "source": [
    "from sklearn.model_selection import cross_val_predict\n",
    "\n",
    "y_train_pred = cross_val_predict(sgd_clf, X_train, y_train_Metal, cv=3)\n",
    "y_train_pred"
   ]
  },
  {
   "cell_type": "code",
   "execution_count": 19,
   "id": "7469ff32",
   "metadata": {},
   "outputs": [
    {
     "data": {
      "text/plain": [
       "array([[ 4277,  2923],\n",
       "       [ 3202, 24598]], dtype=int64)"
      ]
     },
     "execution_count": 19,
     "metadata": {},
     "output_type": "execute_result"
    }
   ],
   "source": [
    "from sklearn.metrics import confusion_matrix\n",
    "\n",
    "confusion_matrix(y_train_Metal, y_train_pred)"
   ]
  },
  {
   "cell_type": "code",
   "execution_count": 20,
   "id": "68cee2ef",
   "metadata": {},
   "outputs": [
    {
     "data": {
      "text/plain": [
       "0.8937901965771593"
      ]
     },
     "execution_count": 20,
     "metadata": {},
     "output_type": "execute_result"
    }
   ],
   "source": [
    "from sklearn.metrics import precision_score, recall_score\n",
    "\n",
    "precision_score(y_train_Metal, y_train_pred)"
   ]
  },
  {
   "cell_type": "code",
   "execution_count": 21,
   "id": "1a66544a",
   "metadata": {},
   "outputs": [
    {
     "data": {
      "text/plain": [
       "0.884820143884892"
      ]
     },
     "execution_count": 21,
     "metadata": {},
     "output_type": "execute_result"
    }
   ],
   "source": [
    "recall_score(y_train_Metal, y_train_pred)"
   ]
  },
  {
   "cell_type": "code",
   "execution_count": 22,
   "id": "df56b400",
   "metadata": {},
   "outputs": [
    {
     "data": {
      "text/plain": [
       "0.8892825509300266"
      ]
     },
     "execution_count": 22,
     "metadata": {},
     "output_type": "execute_result"
    }
   ],
   "source": [
    "from sklearn.metrics import f1_score\n",
    "\n",
    "f1_score(y_train_Metal, y_train_pred)"
   ]
  },
  {
   "cell_type": "markdown",
   "id": "870611e7",
   "metadata": {},
   "source": [
    "# Precision/Recall Trade-off"
   ]
  },
  {
   "cell_type": "code",
   "execution_count": 23,
   "id": "5e19b6f6",
   "metadata": {},
   "outputs": [
    {
     "data": {
      "text/plain": [
       "array([31584.3582583])"
      ]
     },
     "execution_count": 23,
     "metadata": {},
     "output_type": "execute_result"
    }
   ],
   "source": [
    "y_scores = sgd_clf.decision_function([some_digit])\n",
    "y_scores"
   ]
  },
  {
   "cell_type": "code",
   "execution_count": 24,
   "id": "6d330cd2",
   "metadata": {},
   "outputs": [],
   "source": [
    "threshold = 0\n",
    "y_some_digit_pred = (y_scores > threshold)"
   ]
  },
  {
   "cell_type": "code",
   "execution_count": 25,
   "id": "40dad144",
   "metadata": {},
   "outputs": [
    {
     "data": {
      "text/plain": [
       "array([ True])"
      ]
     },
     "execution_count": 25,
     "metadata": {},
     "output_type": "execute_result"
    }
   ],
   "source": [
    "y_some_digit_pred"
   ]
  },
  {
   "cell_type": "code",
   "execution_count": 26,
   "id": "46eccd24",
   "metadata": {},
   "outputs": [
    {
     "data": {
      "text/plain": [
       "array([ True])"
      ]
     },
     "execution_count": 26,
     "metadata": {},
     "output_type": "execute_result"
    }
   ],
   "source": [
    "threshold = 8000\n",
    "y_some_digit_pred = (y_scores > threshold)\n",
    "y_some_digit_pred"
   ]
  },
  {
   "cell_type": "code",
   "execution_count": 27,
   "id": "474c32af",
   "metadata": {},
   "outputs": [],
   "source": [
    "y_scores = cross_val_predict(sgd_clf, X_train, y_train_Metal, cv=3,\n",
    "                             method=\"decision_function\")"
   ]
  },
  {
   "cell_type": "code",
   "execution_count": 28,
   "id": "2874dcb3",
   "metadata": {},
   "outputs": [],
   "source": [
    "from sklearn.metrics import precision_recall_curve\n",
    "\n",
    "precisions, recalls, thresholds = precision_recall_curve(y_train_Metal, y_scores)"
   ]
  },
  {
   "cell_type": "code",
   "execution_count": 29,
   "id": "45400660",
   "metadata": {},
   "outputs": [
    {
     "name": "stdout",
     "output_type": "stream",
     "text": [
      "Saving figure precision_recall_vs_threshold_plot\n"
     ]
    },
    {
     "data": {
      "image/png": "[encoded data removed]",
      "text/plain": [
       "<Figure size 576x288 with 1 Axes>"
      ]
     },
     "metadata": {
      "needs_background": "light"
     },
     "output_type": "display_data"
    }
   ],
   "source": [
    "def plot_precision_recall_vs_threshold(precisions, recalls, thresholds):\n",
    "    plt.plot(thresholds, precisions[:-1], \"b--\", label=\"Precision\", linewidth=2)\n",
    "    plt.plot(thresholds, recalls[:-1], \"g-\", label=\"Recall\", linewidth=2)\n",
    "    plt.legend(loc=\"center right\", fontsize=16) # Not shown in the book\n",
    "    plt.xlabel(\"Threshold\", fontsize=16)        # Not shown\n",
    "    plt.grid(True)                              # Not shown\n",
    "    plt.axis([-50000, 50000, 0, 1])             # Not shown\n",
    "\n",
    "\n",
    "\n",
    "recall_90_precision = recalls[np.argmax(precisions >= 0.90)]\n",
    "threshold_90_precision = thresholds[np.argmax(precisions >= 0.90)]\n",
    "\n",
    "\n",
    "plt.figure(figsize=(8, 4))                                                                  # Not shown\n",
    "plot_precision_recall_vs_threshold(precisions, recalls, thresholds)\n",
    "plt.plot([threshold_90_precision, threshold_90_precision], [0., 0.9], \"r:\")                 # Not shown\n",
    "plt.plot([-50000, threshold_90_precision], [0.9, 0.9], \"r:\")                                # Not shown\n",
    "plt.plot([-50000, threshold_90_precision], [recall_90_precision, recall_90_precision], \"r:\")# Not shown\n",
    "plt.plot([threshold_90_precision], [0.9], \"ro\")                                             # Not shown\n",
    "plt.plot([threshold_90_precision], [recall_90_precision], \"ro\")                             # Not shown\n",
    "save_fig(\"precision_recall_vs_threshold_plot\")                                              # Not shown\n",
    "plt.show()"
   ]
  },
  {
   "cell_type": "code",
   "execution_count": 30,
   "id": "2ed7b15c",
   "metadata": {},
   "outputs": [
    {
     "data": {
      "text/plain": [
       "True"
      ]
     },
     "execution_count": 30,
     "metadata": {},
     "output_type": "execute_result"
    }
   ],
   "source": [
    "(y_train_pred == (y_scores > 0)).all()"
   ]
  },
  {
   "cell_type": "code",
   "execution_count": 31,
   "id": "a81e48dd",
   "metadata": {},
   "outputs": [
    {
     "name": "stdout",
     "output_type": "stream",
     "text": [
      "Saving figure precision_vs_recall_plot\n"
     ]
    },
    {
     "data": {
      "image/png": "[encoded data removed]",
      "text/plain": [
       "<Figure size 576x432 with 1 Axes>"
      ]
     },
     "metadata": {
      "needs_background": "light"
     },
     "output_type": "display_data"
    }
   ],
   "source": [
    "def plot_precision_vs_recall(precisions, recalls):\n",
    "    plt.plot(recalls, precisions, \"b-\", linewidth=2)\n",
    "    plt.xlabel(\"Recall\", fontsize=16)\n",
    "    plt.ylabel(\"Precision\", fontsize=16)\n",
    "    plt.axis([0, 1, 0, 1])\n",
    "    plt.grid(True)\n",
    "\n",
    "plt.figure(figsize=(8, 6))\n",
    "plot_precision_vs_recall(precisions, recalls)\n",
    "plt.plot([recall_90_precision, recall_90_precision], [0., 0.9], \"r:\")\n",
    "plt.plot([0.0, recall_90_precision], [0.9, 0.9], \"r:\")\n",
    "plt.plot([recall_90_precision], [0.9], \"ro\")\n",
    "save_fig(\"precision_vs_recall_plot\")\n",
    "plt.show()"
   ]
  },
  {
   "cell_type": "code",
   "execution_count": 32,
   "id": "a27c552a",
   "metadata": {},
   "outputs": [],
   "source": [
    "threshold_90_precision = thresholds[np.argmax(precisions >= 0.90)]"
   ]
  },
  {
   "cell_type": "code",
   "execution_count": 33,
   "id": "d70b69c5",
   "metadata": {},
   "outputs": [
    {
     "data": {
      "text/plain": [
       "1795.1900738384466"
      ]
     },
     "execution_count": 33,
     "metadata": {},
     "output_type": "execute_result"
    }
   ],
   "source": [
    "threshold_90_precision"
   ]
  },
  {
   "cell_type": "code",
   "execution_count": 34,
   "id": "aa1e9975",
   "metadata": {},
   "outputs": [],
   "source": [
    "y_train_pred_90 = (y_scores >= threshold_90_precision)"
   ]
  },
  {
   "cell_type": "code",
   "execution_count": 35,
   "id": "9713c843",
   "metadata": {},
   "outputs": [
    {
     "data": {
      "text/plain": [
       "0.8597841726618705"
      ]
     },
     "execution_count": 35,
     "metadata": {},
     "output_type": "execute_result"
    }
   ],
   "source": [
    "recall_score(y_train_Metal, y_train_pred_90)"
   ]
  },
  {
   "cell_type": "markdown",
   "id": "e26ee7c2",
   "metadata": {},
   "source": [
    "# ROC Curve"
   ]
  },
  {
   "cell_type": "code",
   "execution_count": 36,
   "id": "b776c7cc",
   "metadata": {},
   "outputs": [],
   "source": [
    "from sklearn.metrics import roc_curve\n",
    "\n",
    "fpr, tpr, thresholds = roc_curve(y_train_Metal, y_scores)"
   ]
  },
  {
   "cell_type": "code",
   "execution_count": 37,
   "id": "955b2080",
   "metadata": {},
   "outputs": [
    {
     "name": "stdout",
     "output_type": "stream",
     "text": [
      "Saving figure roc_curve_plot\n"
     ]
    },
    {
     "data": {
      "image/png": "[encoded data removed]",
      "text/plain": [
       "<Figure size 576x432 with 1 Axes>"
      ]
     },
     "metadata": {
      "needs_background": "light"
     },
     "output_type": "display_data"
    }
   ],
   "source": [
    "def plot_roc_curve(fpr, tpr, label=None):\n",
    "    plt.plot(fpr, tpr, linewidth=2, label=label)\n",
    "    plt.plot([0, 1], [0, 1], 'k--') # dashed diagonal\n",
    "    plt.axis([0, 1, 0, 1])                                    # Not shown in the book\n",
    "    plt.xlabel('False Positive Rate (Fall-Out)', fontsize=16) # Not shown\n",
    "    plt.ylabel('True Positive Rate (Recall)', fontsize=16)    # Not shown\n",
    "    plt.grid(True)                                            # Not shown\n",
    "\n",
    "plt.figure(figsize=(8, 6))                                    # Not shown\n",
    "plot_roc_curve(fpr, tpr)\n",
    "fpr_90 = fpr[np.argmax(tpr >= recall_90_precision)]           # Not shown\n",
    "plt.plot([fpr_90, fpr_90], [0., recall_90_precision], \"r:\")   # Not shown\n",
    "plt.plot([0.0, fpr_90], [recall_90_precision, recall_90_precision], \"r:\")  # Not shown\n",
    "plt.plot([fpr_90], [recall_90_precision], \"ro\")               # Not shown\n",
    "save_fig(\"roc_curve_plot\")                                    # Not shown\n",
    "plt.show()"
   ]
  },
  {
   "cell_type": "code",
   "execution_count": 38,
   "id": "7fa1224e",
   "metadata": {},
   "outputs": [
    {
     "data": {
      "text/plain": [
       "0.8676545338729017"
      ]
     },
     "execution_count": 38,
     "metadata": {},
     "output_type": "execute_result"
    }
   ],
   "source": [
    "from sklearn.metrics import roc_auc_score\n",
    "\n",
    "roc_auc_score(y_train_Metal, y_scores)"
   ]
  },
  {
   "cell_type": "markdown",
   "id": "4dd160a2",
   "metadata": {},
   "source": [
    "# Random Forest"
   ]
  },
  {
   "cell_type": "code",
   "execution_count": 39,
   "id": "e422e3a3",
   "metadata": {},
   "outputs": [],
   "source": [
    "from sklearn.ensemble import RandomForestClassifier\n",
    "forest_clf = RandomForestClassifier(n_estimators=100, random_state=42)\n",
    "y_probas_forest = cross_val_predict(forest_clf, X_train, y_train_Metal, cv=3,\n",
    "                                    method=\"predict_proba\")"
   ]
  },
  {
   "cell_type": "code",
   "execution_count": 40,
   "id": "7ab0f512",
   "metadata": {},
   "outputs": [],
   "source": [
    "y_scores_forest = y_probas_forest[:, 1] # score = proba of positive class\n",
    "fpr_forest, tpr_forest, thresholds_forest = roc_curve(y_train_Metal,y_scores_forest)"
   ]
  },
  {
   "cell_type": "code",
   "execution_count": 41,
   "id": "76350fd1",
   "metadata": {},
   "outputs": [
    {
     "name": "stdout",
     "output_type": "stream",
     "text": [
      "Saving figure roc_curve_comparison_plot\n"
     ]
    },
    {
     "data": {
      "image/png": "[encoded data removed]",
      "text/plain": [
       "<Figure size 576x432 with 1 Axes>"
      ]
     },
     "metadata": {
      "needs_background": "light"
     },
     "output_type": "display_data"
    }
   ],
   "source": [
    "recall_for_forest = tpr_forest[np.argmax(fpr_forest >= fpr_90)]\n",
    "\n",
    "plt.figure(figsize=(8, 6))\n",
    "plt.plot(fpr, tpr, \"b:\", linewidth=2, label=\"SGD\")\n",
    "plot_roc_curve(fpr_forest, tpr_forest, \"Random Forest\")\n",
    "plt.plot([fpr_90, fpr_90], [0., recall_90_precision], \"r:\")\n",
    "plt.plot([0.0, fpr_90], [recall_90_precision, recall_90_precision], \"r:\")\n",
    "plt.plot([fpr_90], [recall_90_precision], \"ro\")\n",
    "plt.plot([fpr_90, fpr_90], [0., recall_for_forest], \"r:\")\n",
    "plt.plot([fpr_90], [recall_for_forest], \"ro\")\n",
    "plt.grid(True)\n",
    "plt.legend(loc=\"lower right\", fontsize=16)\n",
    "save_fig(\"roc_curve_comparison_plot\")\n",
    "plt.show()"
   ]
  },
  {
   "cell_type": "code",
   "execution_count": 42,
   "id": "95afe56b",
   "metadata": {},
   "outputs": [
    {
     "data": {
      "text/plain": [
       "0.9065385591526779"
      ]
     },
     "execution_count": 42,
     "metadata": {},
     "output_type": "execute_result"
    }
   ],
   "source": [
    "roc_auc_score(y_train_Metal, y_scores_forest)"
   ]
  },
  {
   "cell_type": "code",
   "execution_count": 43,
   "id": "4d97c36c",
   "metadata": {},
   "outputs": [
    {
     "data": {
      "text/plain": [
       "0.920201984282209"
      ]
     },
     "execution_count": 43,
     "metadata": {},
     "output_type": "execute_result"
    }
   ],
   "source": [
    "y_train_pred_forest = cross_val_predict(forest_clf, X_train, y_train_Metal, cv=3)\n",
    "precision_score(y_train_Metal, y_train_pred_forest)"
   ]
  },
  {
   "cell_type": "code",
   "execution_count": 44,
   "id": "933014d8",
   "metadata": {},
   "outputs": [
    {
     "data": {
      "text/plain": [
       "0.9308273381294964"
      ]
     },
     "execution_count": 44,
     "metadata": {},
     "output_type": "execute_result"
    }
   ],
   "source": [
    "recall_score(y_train_Metal, y_train_pred_forest)"
   ]
  },
  {
   "cell_type": "markdown",
   "id": "5609bc5c",
   "metadata": {},
   "source": [
    "# Testset"
   ]
  },
  {
   "cell_type": "code",
   "execution_count": 45,
   "id": "94bcb5b5",
   "metadata": {},
   "outputs": [
    {
     "data": {
      "text/plain": [
       "(132520, 146)"
      ]
     },
     "execution_count": 45,
     "metadata": {},
     "output_type": "execute_result"
    }
   ],
   "source": [
    "df_ts=pd.DataFrame(ts)\n",
    "df_ts.shape"
   ]
  },
  {
   "cell_type": "code",
   "execution_count": 46,
   "id": "aa82cd50",
   "metadata": {},
   "outputs": [],
   "source": [
    "feature_range = list(range(145))\n",
    "X_ts=df_ts.iloc[:, feature_range]\n",
    "some_digit=X_ts.iloc[0]"
   ]
  },
  {
   "cell_type": "code",
   "execution_count": null,
   "id": "9e3ff047",
   "metadata": {},
   "outputs": [],
   "source": []
  },
  {
   "cell_type": "code",
   "execution_count": null,
   "id": "6cca2cac",
   "metadata": {},
   "outputs": [],
   "source": []
  },
  {
   "cell_type": "code",
   "execution_count": null,
   "id": "63b1dbb3",
   "metadata": {},
   "outputs": [],
   "source": []
  },
  {
   "cell_type": "code",
   "execution_count": null,
   "id": "db3ec7fb",
   "metadata": {},
   "outputs": [],
   "source": []
  },
  {
   "cell_type": "code",
   "execution_count": null,
   "id": "c1721ab1",
   "metadata": {},
   "outputs": [],
   "source": []
  },
  {
   "cell_type": "code",
   "execution_count": null,
   "id": "b60f3fe8",
   "metadata": {},
   "outputs": [],
   "source": []
  },
  {
   "cell_type": "code",
   "execution_count": null,
   "id": "d5b09b3f",
   "metadata": {},
   "outputs": [],
   "source": []
  },
  {
   "cell_type": "code",
   "execution_count": null,
   "id": "d06187a2",
   "metadata": {},
   "outputs": [],
   "source": []
  },
  {
   "cell_type": "code",
   "execution_count": null,
   "id": "2bce9ef6",
   "metadata": {},
   "outputs": [],
   "source": []
  },
  {
   "cell_type": "code",
   "execution_count": null,
   "id": "ba897888",
   "metadata": {},
   "outputs": [],
   "source": []
  },
  {
   "cell_type": "code",
   "execution_count": null,
   "id": "840cb9fd",
   "metadata": {},
   "outputs": [],
   "source": []
  },
  {
   "cell_type": "code",
   "execution_count": null,
   "id": "8a48a35c",
   "metadata": {},
   "outputs": [],
   "source": []
  },
  {
   "cell_type": "code",
   "execution_count": null,
   "id": "7163f887",
   "metadata": {},
   "outputs": [],
   "source": []
  },
  {
   "cell_type": "code",
   "execution_count": null,
   "id": "2852ea64",
   "metadata": {},
   "outputs": [],
   "source": []
  },
  {
   "cell_type": "code",
   "execution_count": null,
   "id": "3c13104e",
   "metadata": {},
   "outputs": [],
   "source": []
  }
 ],
 "metadata": {
  "kernelspec": {
   "display_name": "Python 3 (ipykernel)",
   "language": "python",
   "name": "python3"
  },
  "language_info": {
   "codemirror_mode": {
    "name": "ipython",
    "version": 3
   },
   "file_extension": ".py",
   "mimetype": "text/x-python",
   "name": "python",
   "nbconvert_exporter": "python",
   "pygments_lexer": "ipython3",
   "version": "3.9.7"
  }
 },
 "nbformat": 4,
 "nbformat_minor": 5
}
