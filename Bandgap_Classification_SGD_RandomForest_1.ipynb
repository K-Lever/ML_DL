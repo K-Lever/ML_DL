{
 "cells": [
  {
   "cell_type": "code",
   "execution_count": 52,
   "id": "fa85a593",
   "metadata": {},
   "outputs": [],
   "source": [
    "import sys\n",
    "assert sys.version_info >= (3, 5)\n",
    "\n",
    "import sklearn\n",
    "assert sklearn.__version__ >= \"0.20\"\n",
    "\n",
    "import numpy as np\n",
    "import os\n",
    "\n",
    "%matplotlib inline\n",
    "import matplotlib as mpl\n",
    "import matplotlib.pyplot as plt\n",
    "mpl.rc('axes', labelsize=14)\n",
    "mpl.rc('xtick', labelsize=12)\n",
    "mpl.rc('ytick', labelsize=12)\n",
    "\n",
    "import pandas as pd\n",
    "import os\n",
    "import tarfile\n",
    "import urllib.request\n",
    "\n",
    "PROJECT_ROOT_DIR = \".\"\n",
    "CHAPTER_ID = \"classification\"\n",
    "IMAGES_PATH = os.path.join(PROJECT_ROOT_DIR, \"images\", CHAPTER_ID)\n",
    "os.makedirs(IMAGES_PATH, exist_ok=True)\n",
    "\n",
    "def save_fig(fig_id, tight_layout=True, fig_extension=\"png\", resolution=300):\n",
    "    path = os.path.join(IMAGES_PATH, fig_id + \".\" + fig_extension)\n",
    "    print(\"Saving figure\", fig_id)\n",
    "    if tight_layout:\n",
    "        plt.tight_layout()\n",
    "    plt.savefig(path, format=fig_extension, dpi=resolution)"
   ]
  },
  {
   "cell_type": "code",
   "execution_count": 53,
   "id": "1cd19a52",
   "metadata": {},
   "outputs": [],
   "source": [
    "ts=pd.read_csv(\"Features_testset.csv\")\n",
    "df=pd.read_csv(\"Features_trainvalidation.csv\")"
   ]
  },
  {
   "cell_type": "code",
   "execution_count": 54,
   "id": "44bf4c4d",
   "metadata": {},
   "outputs": [
    {
     "data": {
      "text/html": [
       "<div>\n",
       "<style scoped>\n",
       "    .dataframe tbody tr th:only-of-type {\n",
       "        vertical-align: middle;\n",
       "    }\n",
       "\n",
       "    .dataframe tbody tr th {\n",
       "        vertical-align: top;\n",
       "    }\n",
       "\n",
       "    .dataframe thead th {\n",
       "        text-align: right;\n",
       "    }\n",
       "</style>\n",
       "<table border=\"1\" class=\"dataframe\">\n",
       "  <thead>\n",
       "    <tr style=\"text-align: right;\">\n",
       "      <th></th>\n",
       "      <th>NComp</th>\n",
       "      <th>Comp_L2Norm</th>\n",
       "      <th>Comp_L3Norm</th>\n",
       "      <th>Comp_L5Norm</th>\n",
       "      <th>Comp_L7Norm</th>\n",
       "      <th>Comp_L10Norm</th>\n",
       "      <th>mean_Number</th>\n",
       "      <th>maxdiff_Number</th>\n",
       "      <th>dev_Number</th>\n",
       "      <th>max_Number</th>\n",
       "      <th>...</th>\n",
       "      <th>frac_sValence</th>\n",
       "      <th>frac_pValence</th>\n",
       "      <th>frac_dValence</th>\n",
       "      <th>frac_fValence</th>\n",
       "      <th>CanFormIonic</th>\n",
       "      <th>MaxIonicChar</th>\n",
       "      <th>MeanIonicChar</th>\n",
       "      <th>Index</th>\n",
       "      <th>TotalEnergy</th>\n",
       "      <th>Bandgap</th>\n",
       "    </tr>\n",
       "  </thead>\n",
       "  <tbody>\n",
       "    <tr>\n",
       "      <th>count</th>\n",
       "      <td>44174.000000</td>\n",
       "      <td>44174.000000</td>\n",
       "      <td>44174.000000</td>\n",
       "      <td>44174.000000</td>\n",
       "      <td>44174.000000</td>\n",
       "      <td>44174.000000</td>\n",
       "      <td>44174.000000</td>\n",
       "      <td>44174.000000</td>\n",
       "      <td>44174.000000</td>\n",
       "      <td>44174.000000</td>\n",
       "      <td>...</td>\n",
       "      <td>44174.000000</td>\n",
       "      <td>44174.000000</td>\n",
       "      <td>44174.000000</td>\n",
       "      <td>44174.000000</td>\n",
       "      <td>44174.000000</td>\n",
       "      <td>44174.000000</td>\n",
       "      <td>44174.000000</td>\n",
       "      <td>44174.000000</td>\n",
       "      <td>44174.000000</td>\n",
       "      <td>44174.000000</td>\n",
       "    </tr>\n",
       "    <tr>\n",
       "      <th>mean</th>\n",
       "      <td>2.921968</td>\n",
       "      <td>0.649572</td>\n",
       "      <td>0.584268</td>\n",
       "      <td>0.551721</td>\n",
       "      <td>0.543117</td>\n",
       "      <td>0.538253</td>\n",
       "      <td>39.136690</td>\n",
       "      <td>40.279486</td>\n",
       "      <td>14.351893</td>\n",
       "      <td>61.749264</td>\n",
       "      <td>...</td>\n",
       "      <td>0.225878</td>\n",
       "      <td>0.132151</td>\n",
       "      <td>0.439213</td>\n",
       "      <td>0.202758</td>\n",
       "      <td>0.215715</td>\n",
       "      <td>0.286594</td>\n",
       "      <td>0.108304</td>\n",
       "      <td>88347.000000</td>\n",
       "      <td>-5.720376</td>\n",
       "      <td>0.427692</td>\n",
       "    </tr>\n",
       "    <tr>\n",
       "      <th>std</th>\n",
       "      <td>0.572382</td>\n",
       "      <td>0.076830</td>\n",
       "      <td>0.097160</td>\n",
       "      <td>0.112877</td>\n",
       "      <td>0.119063</td>\n",
       "      <td>0.123463</td>\n",
       "      <td>16.441628</td>\n",
       "      <td>20.536967</td>\n",
       "      <td>7.818007</td>\n",
       "      <td>19.114566</td>\n",
       "      <td>...</td>\n",
       "      <td>0.145958</td>\n",
       "      <td>0.161999</td>\n",
       "      <td>0.228714</td>\n",
       "      <td>0.213150</td>\n",
       "      <td>0.411322</td>\n",
       "      <td>0.248945</td>\n",
       "      <td>0.102115</td>\n",
       "      <td>51008.318929</td>\n",
       "      <td>2.230297</td>\n",
       "      <td>1.196584</td>\n",
       "    </tr>\n",
       "    <tr>\n",
       "      <th>min</th>\n",
       "      <td>1.000000</td>\n",
       "      <td>0.447214</td>\n",
       "      <td>0.341995</td>\n",
       "      <td>0.275946</td>\n",
       "      <td>0.251700</td>\n",
       "      <td>0.234924</td>\n",
       "      <td>1.000000</td>\n",
       "      <td>0.000000</td>\n",
       "      <td>0.000000</td>\n",
       "      <td>1.000000</td>\n",
       "      <td>...</td>\n",
       "      <td>0.000000</td>\n",
       "      <td>0.000000</td>\n",
       "      <td>0.000000</td>\n",
       "      <td>0.000000</td>\n",
       "      <td>0.000000</td>\n",
       "      <td>0.000000</td>\n",
       "      <td>0.000000</td>\n",
       "      <td>1.000000</td>\n",
       "      <td>-15.154200</td>\n",
       "      <td>0.000000</td>\n",
       "    </tr>\n",
       "    <tr>\n",
       "      <th>25%</th>\n",
       "      <td>3.000000</td>\n",
       "      <td>0.600000</td>\n",
       "      <td>0.517872</td>\n",
       "      <td>0.481796</td>\n",
       "      <td>0.467168</td>\n",
       "      <td>0.459210</td>\n",
       "      <td>26.587500</td>\n",
       "      <td>25.000000</td>\n",
       "      <td>8.375925</td>\n",
       "      <td>48.000000</td>\n",
       "      <td>...</td>\n",
       "      <td>0.131579</td>\n",
       "      <td>0.000000</td>\n",
       "      <td>0.280000</td>\n",
       "      <td>0.000000</td>\n",
       "      <td>0.000000</td>\n",
       "      <td>0.097332</td>\n",
       "      <td>0.033707</td>\n",
       "      <td>44174.000000</td>\n",
       "      <td>-7.222000</td>\n",
       "      <td>0.000000</td>\n",
       "    </tr>\n",
       "    <tr>\n",
       "      <th>50%</th>\n",
       "      <td>3.000000</td>\n",
       "      <td>0.612372</td>\n",
       "      <td>0.538609</td>\n",
       "      <td>0.506099</td>\n",
       "      <td>0.501109</td>\n",
       "      <td>0.500098</td>\n",
       "      <td>38.000000</td>\n",
       "      <td>39.000000</td>\n",
       "      <td>13.719504</td>\n",
       "      <td>65.000000</td>\n",
       "      <td>...</td>\n",
       "      <td>0.187500</td>\n",
       "      <td>0.064516</td>\n",
       "      <td>0.444444</td>\n",
       "      <td>0.157003</td>\n",
       "      <td>0.000000</td>\n",
       "      <td>0.213451</td>\n",
       "      <td>0.073640</td>\n",
       "      <td>88347.000000</td>\n",
       "      <td>-5.601150</td>\n",
       "      <td>0.000000</td>\n",
       "    </tr>\n",
       "    <tr>\n",
       "      <th>75%</th>\n",
       "      <td>3.000000</td>\n",
       "      <td>0.707107</td>\n",
       "      <td>0.642563</td>\n",
       "      <td>0.615030</td>\n",
       "      <td>0.604895</td>\n",
       "      <td>0.601032</td>\n",
       "      <td>50.500000</td>\n",
       "      <td>56.000000</td>\n",
       "      <td>19.555556</td>\n",
       "      <td>78.000000</td>\n",
       "      <td>...</td>\n",
       "      <td>0.279070</td>\n",
       "      <td>0.195652</td>\n",
       "      <td>0.612903</td>\n",
       "      <td>0.384615</td>\n",
       "      <td>0.000000</td>\n",
       "      <td>0.391662</td>\n",
       "      <td>0.149160</td>\n",
       "      <td>132520.000000</td>\n",
       "      <td>-4.045900</td>\n",
       "      <td>0.000000</td>\n",
       "    </tr>\n",
       "    <tr>\n",
       "      <th>max</th>\n",
       "      <td>7.000000</td>\n",
       "      <td>1.000000</td>\n",
       "      <td>1.000000</td>\n",
       "      <td>1.000000</td>\n",
       "      <td>1.000000</td>\n",
       "      <td>1.000000</td>\n",
       "      <td>94.000000</td>\n",
       "      <td>93.000000</td>\n",
       "      <td>43.500000</td>\n",
       "      <td>94.000000</td>\n",
       "      <td>...</td>\n",
       "      <td>1.000000</td>\n",
       "      <td>0.714286</td>\n",
       "      <td>1.000000</td>\n",
       "      <td>0.866667</td>\n",
       "      <td>1.000000</td>\n",
       "      <td>0.921450</td>\n",
       "      <td>0.460725</td>\n",
       "      <td>176693.000000</td>\n",
       "      <td>-0.041300</td>\n",
       "      <td>10.117100</td>\n",
       "    </tr>\n",
       "  </tbody>\n",
       "</table>\n",
       "<p>8 rows × 148 columns</p>\n",
       "</div>"
      ],
      "text/plain": [
       "              NComp   Comp_L2Norm   Comp_L3Norm   Comp_L5Norm   Comp_L7Norm  \\\n",
       "count  44174.000000  44174.000000  44174.000000  44174.000000  44174.000000   \n",
       "mean       2.921968      0.649572      0.584268      0.551721      0.543117   \n",
       "std        0.572382      0.076830      0.097160      0.112877      0.119063   \n",
       "min        1.000000      0.447214      0.341995      0.275946      0.251700   \n",
       "25%        3.000000      0.600000      0.517872      0.481796      0.467168   \n",
       "50%        3.000000      0.612372      0.538609      0.506099      0.501109   \n",
       "75%        3.000000      0.707107      0.642563      0.615030      0.604895   \n",
       "max        7.000000      1.000000      1.000000      1.000000      1.000000   \n",
       "\n",
       "       Comp_L10Norm   mean_Number  maxdiff_Number    dev_Number    max_Number  \\\n",
       "count  44174.000000  44174.000000    44174.000000  44174.000000  44174.000000   \n",
       "mean       0.538253     39.136690       40.279486     14.351893     61.749264   \n",
       "std        0.123463     16.441628       20.536967      7.818007     19.114566   \n",
       "min        0.234924      1.000000        0.000000      0.000000      1.000000   \n",
       "25%        0.459210     26.587500       25.000000      8.375925     48.000000   \n",
       "50%        0.500098     38.000000       39.000000     13.719504     65.000000   \n",
       "75%        0.601032     50.500000       56.000000     19.555556     78.000000   \n",
       "max        1.000000     94.000000       93.000000     43.500000     94.000000   \n",
       "\n",
       "       ...  frac_sValence  frac_pValence  frac_dValence  frac_fValence  \\\n",
       "count  ...   44174.000000   44174.000000   44174.000000   44174.000000   \n",
       "mean   ...       0.225878       0.132151       0.439213       0.202758   \n",
       "std    ...       0.145958       0.161999       0.228714       0.213150   \n",
       "min    ...       0.000000       0.000000       0.000000       0.000000   \n",
       "25%    ...       0.131579       0.000000       0.280000       0.000000   \n",
       "50%    ...       0.187500       0.064516       0.444444       0.157003   \n",
       "75%    ...       0.279070       0.195652       0.612903       0.384615   \n",
       "max    ...       1.000000       0.714286       1.000000       0.866667   \n",
       "\n",
       "       CanFormIonic  MaxIonicChar  MeanIonicChar          Index   TotalEnergy  \\\n",
       "count  44174.000000  44174.000000   44174.000000   44174.000000  44174.000000   \n",
       "mean       0.215715      0.286594       0.108304   88347.000000     -5.720376   \n",
       "std        0.411322      0.248945       0.102115   51008.318929      2.230297   \n",
       "min        0.000000      0.000000       0.000000       1.000000    -15.154200   \n",
       "25%        0.000000      0.097332       0.033707   44174.000000     -7.222000   \n",
       "50%        0.000000      0.213451       0.073640   88347.000000     -5.601150   \n",
       "75%        0.000000      0.391662       0.149160  132520.000000     -4.045900   \n",
       "max        1.000000      0.921450       0.460725  176693.000000     -0.041300   \n",
       "\n",
       "            Bandgap  \n",
       "count  44174.000000  \n",
       "mean       0.427692  \n",
       "std        1.196584  \n",
       "min        0.000000  \n",
       "25%        0.000000  \n",
       "50%        0.000000  \n",
       "75%        0.000000  \n",
       "max       10.117100  \n",
       "\n",
       "[8 rows x 148 columns]"
      ]
     },
     "execution_count": 54,
     "metadata": {},
     "output_type": "execute_result"
    }
   ],
   "source": [
    "df.describe()"
   ]
  },
  {
   "cell_type": "code",
   "execution_count": 55,
   "id": "758cb7d5",
   "metadata": {},
   "outputs": [
    {
     "data": {
      "text/plain": [
       "Bandgap                  1.000000\n",
       "frac_pValence            0.610560\n",
       "CanFormIonic             0.601729\n",
       "max_Electronegativity    0.547372\n",
       "MeanIonicChar            0.536014\n",
       "                           ...   \n",
       "mean_Row                -0.435002\n",
       "most_CovalentRadius     -0.450047\n",
       "min_CovalentRadius      -0.464661\n",
       "most_SpaceGroupNumber   -0.488442\n",
       "mean_SpaceGroupNumber   -0.491685\n",
       "Name: Bandgap, Length: 148, dtype: float64"
      ]
     },
     "execution_count": 55,
     "metadata": {},
     "output_type": "execute_result"
    }
   ],
   "source": [
    "corr_matrix = df.corr()\n",
    "corr_matrix[\"Bandgap\"].sort_values(ascending=False)"
   ]
  },
  {
   "cell_type": "code",
   "execution_count": 56,
   "id": "2db1673b",
   "metadata": {},
   "outputs": [
    {
     "name": "stdout",
     "output_type": "stream",
     "text": [
      "['mean_Number', 'min_Number', 'most_Number', 'mean_AtomicWeight', 'min_AtomicWeight', 'most_AtomicWeight', 'mean_MeltingT', 'min_MeltingT', 'most_MeltingT', 'mean_Row', 'min_Row', 'most_Row', 'mean_CovalentRadius', 'min_CovalentRadius', 'most_CovalentRadius', 'mean_NdValence', 'max_NdValence', 'most_NdValence', 'mean_NValance', 'mean_NdUnfilled', 'mean_NUnfilled', 'most_NUnfilled', 'mean_SpaceGroupNumber', 'min_SpaceGroupNumber', 'most_SpaceGroupNumber', 'frac_dValence']\n"
     ]
    }
   ],
   "source": [
    "#상관관계 -0.2 ~ 0.2 feature 색인\n",
    "corr_matrix_2 = pd.DataFrame(corr_matrix.iloc[-1,:]).T\n",
    "\n",
    "throw_away_col = []\n",
    "for col in corr_matrix_2:\n",
    "    if abs(-0.2 <= corr_matrix_2[col][0]) <= 0.2:\n",
    "        throw_away_col.append(col)\n",
    "print(throw_away_col)"
   ]
  },
  {
   "cell_type": "code",
   "execution_count": 57,
   "id": "c3f0590a",
   "metadata": {},
   "outputs": [],
   "source": [
    "#상관관계 낮은 피쳐 제거\n",
    "df.drop(['mean_Number', 'min_Number', 'most_Number', 'mean_AtomicWeight', 'min_AtomicWeight', 'most_AtomicWeight', 'mean_MeltingT', 'min_MeltingT', 'most_MeltingT', 'mean_Row', 'min_Row', 'most_Row', 'mean_CovalentRadius', 'min_CovalentRadius', 'most_CovalentRadius', 'mean_NdValence', 'max_NdValence', 'most_NdValence', 'mean_NValance', 'mean_NdUnfilled', 'mean_NUnfilled', 'most_NUnfilled', 'mean_SpaceGroupNumber', 'min_SpaceGroupNumber', 'most_SpaceGroupNumber', 'frac_dValence']\n",
    "              , axis = 1, inplace = True)\n",
    "\n",
    "ts.drop(['mean_Number', 'min_Number', 'most_Number', 'mean_AtomicWeight', 'min_AtomicWeight', 'most_AtomicWeight', 'mean_MeltingT', 'min_MeltingT', 'most_MeltingT', 'mean_Row', 'min_Row', 'most_Row', 'mean_CovalentRadius', 'min_CovalentRadius', 'most_CovalentRadius', 'mean_NdValence', 'max_NdValence', 'most_NdValence', 'mean_NValance', 'mean_NdUnfilled', 'mean_NUnfilled', 'most_NUnfilled', 'mean_SpaceGroupNumber', 'min_SpaceGroupNumber', 'most_SpaceGroupNumber', 'frac_dValence']\n",
    "              , axis = 1, inplace = True)"
   ]
  },
  {
   "cell_type": "code",
   "execution_count": 58,
   "id": "c2dee5f9",
   "metadata": {},
   "outputs": [],
   "source": [
    "#x, y로 데이터 분리\n",
    "x_df = df.drop(['Index', 'TotalEnergy','Bandgap'], axis=1)\n",
    "y_df = df['Bandgap']"
   ]
  },
  {
   "cell_type": "raw",
   "id": "f6a59788",
   "metadata": {},
   "source": [
    "def cut(mydata):\n",
    "    IQR = mydata.quantile(0.75) - mydata.quantile(0.25)\n",
    "    return pd.DataFrame([[mydata.quantile(0.25)-(1.5*IQR), mydata.quantile(0.75)+(1.5*IQR)]]*mydata.shape[0], columns=['lower','upper'], index=mydata.index)"
   ]
  },
  {
   "cell_type": "code",
   "execution_count": 59,
   "id": "c3d3bef0",
   "metadata": {},
   "outputs": [],
   "source": [
    "x_df_s = x_df.copy()\n",
    "level_1q = x_df_s.quantile(0.25)\n",
    "level_3q = x_df_s.quantile(0.75)\n",
    "IQR = level_3q - level_1q\n",
    "rev_range = 3  # 제거 범위 조절 변수\n",
    "dff = x_df_s[(x_df_s <= level_3q + (rev_range * IQR)) & (x_df_s >= level_1q - (rev_range * IQR))]\n",
    "dff = dff.reset_index(drop=True)"
   ]
  },
  {
   "cell_type": "code",
   "execution_count": 60,
   "id": "f6e7b25e",
   "metadata": {},
   "outputs": [
    {
     "data": {
      "text/plain": [
       "{'whiskers': [<matplotlib.lines.Line2D at 0x1c6ed2cf7f0>,\n",
       "  <matplotlib.lines.Line2D at 0x1c6ed2cf7c0>],\n",
       " 'caps': [<matplotlib.lines.Line2D at 0x1c6ed2b5280>,\n",
       "  <matplotlib.lines.Line2D at 0x1c6ed2b5fa0>],\n",
       " 'boxes': [<matplotlib.lines.Line2D at 0x1c6ed2cf580>],\n",
       " 'medians': [<matplotlib.lines.Line2D at 0x1c6ed2b5dc0>],\n",
       " 'fliers': [<matplotlib.lines.Line2D at 0x1c6ed2b5040>],\n",
       " 'means': []}"
      ]
     },
     "execution_count": 60,
     "metadata": {},
     "output_type": "execute_result"
    },
    {
     "data": {
      "image/png": "[encoded data removed]",
      "text/plain": [
       "<Figure size 288x288 with 1 Axes>"
      ]
     },
     "metadata": {
      "needs_background": "light"
     },
     "output_type": "display_data"
    }
   ],
   "source": [
    "fig, ax = plt.subplots(1,1, figsize=(4,4))\n",
    "a = list(x_df.iloc[0])\n",
    "\n",
    "ax.boxplot(a)"
   ]
  },
  {
   "cell_type": "code",
   "execution_count": 61,
   "id": "a976c86b",
   "metadata": {},
   "outputs": [
    {
     "data": {
      "text/html": [
       "<div>\n",
       "<style scoped>\n",
       "    .dataframe tbody tr th:only-of-type {\n",
       "        vertical-align: middle;\n",
       "    }\n",
       "\n",
       "    .dataframe tbody tr th {\n",
       "        vertical-align: top;\n",
       "    }\n",
       "\n",
       "    .dataframe thead th {\n",
       "        text-align: right;\n",
       "    }\n",
       "</style>\n",
       "<table border=\"1\" class=\"dataframe\">\n",
       "  <thead>\n",
       "    <tr style=\"text-align: right;\">\n",
       "      <th></th>\n",
       "      <th>NComp</th>\n",
       "      <th>Comp_L2Norm</th>\n",
       "      <th>Comp_L3Norm</th>\n",
       "      <th>Comp_L5Norm</th>\n",
       "      <th>Comp_L7Norm</th>\n",
       "      <th>Comp_L10Norm</th>\n",
       "      <th>maxdiff_Number</th>\n",
       "      <th>dev_Number</th>\n",
       "      <th>max_Number</th>\n",
       "      <th>mean_MendeleevNumber</th>\n",
       "      <th>...</th>\n",
       "      <th>max_SpaceGroupNumber</th>\n",
       "      <th>frac_sValence</th>\n",
       "      <th>frac_pValence</th>\n",
       "      <th>frac_fValence</th>\n",
       "      <th>CanFormIonic</th>\n",
       "      <th>MaxIonicChar</th>\n",
       "      <th>MeanIonicChar</th>\n",
       "      <th>Index</th>\n",
       "      <th>TotalEnergy</th>\n",
       "      <th>Bandgap</th>\n",
       "    </tr>\n",
       "  </thead>\n",
       "  <tbody>\n",
       "    <tr>\n",
       "      <th>0</th>\n",
       "      <td>1</td>\n",
       "      <td>1.000000</td>\n",
       "      <td>1.000000</td>\n",
       "      <td>1.000000</td>\n",
       "      <td>1.000000</td>\n",
       "      <td>1.000000</td>\n",
       "      <td>0</td>\n",
       "      <td>0.000000</td>\n",
       "      <td>89</td>\n",
       "      <td>14.000000</td>\n",
       "      <td>...</td>\n",
       "      <td>225</td>\n",
       "      <td>0.666667</td>\n",
       "      <td>0.000000</td>\n",
       "      <td>0.000000</td>\n",
       "      <td>0</td>\n",
       "      <td>0.000000</td>\n",
       "      <td>0.000000</td>\n",
       "      <td>1</td>\n",
       "      <td>-4.4803</td>\n",
       "      <td>0.0</td>\n",
       "    </tr>\n",
       "    <tr>\n",
       "      <th>1</th>\n",
       "      <td>1</td>\n",
       "      <td>1.000000</td>\n",
       "      <td>1.000000</td>\n",
       "      <td>1.000000</td>\n",
       "      <td>1.000000</td>\n",
       "      <td>1.000000</td>\n",
       "      <td>0</td>\n",
       "      <td>0.000000</td>\n",
       "      <td>47</td>\n",
       "      <td>65.000000</td>\n",
       "      <td>...</td>\n",
       "      <td>225</td>\n",
       "      <td>0.090909</td>\n",
       "      <td>0.000000</td>\n",
       "      <td>0.000000</td>\n",
       "      <td>0</td>\n",
       "      <td>0.000000</td>\n",
       "      <td>0.000000</td>\n",
       "      <td>5</td>\n",
       "      <td>-3.2681</td>\n",
       "      <td>0.0</td>\n",
       "    </tr>\n",
       "    <tr>\n",
       "      <th>2</th>\n",
       "      <td>2</td>\n",
       "      <td>0.745356</td>\n",
       "      <td>0.693361</td>\n",
       "      <td>0.670782</td>\n",
       "      <td>0.667408</td>\n",
       "      <td>0.666732</td>\n",
       "      <td>32</td>\n",
       "      <td>14.222222</td>\n",
       "      <td>79</td>\n",
       "      <td>65.333333</td>\n",
       "      <td>...</td>\n",
       "      <td>225</td>\n",
       "      <td>0.063830</td>\n",
       "      <td>0.000000</td>\n",
       "      <td>0.297872</td>\n",
       "      <td>0</td>\n",
       "      <td>0.088829</td>\n",
       "      <td>0.039480</td>\n",
       "      <td>9</td>\n",
       "      <td>-3.5294</td>\n",
       "      <td>0.0</td>\n",
       "    </tr>\n",
       "    <tr>\n",
       "      <th>3</th>\n",
       "      <td>2</td>\n",
       "      <td>0.745356</td>\n",
       "      <td>0.693361</td>\n",
       "      <td>0.670782</td>\n",
       "      <td>0.667408</td>\n",
       "      <td>0.666732</td>\n",
       "      <td>32</td>\n",
       "      <td>14.222222</td>\n",
       "      <td>79</td>\n",
       "      <td>65.333333</td>\n",
       "      <td>...</td>\n",
       "      <td>225</td>\n",
       "      <td>0.063830</td>\n",
       "      <td>0.000000</td>\n",
       "      <td>0.297872</td>\n",
       "      <td>0</td>\n",
       "      <td>0.088829</td>\n",
       "      <td>0.039480</td>\n",
       "      <td>13</td>\n",
       "      <td>-3.5643</td>\n",
       "      <td>0.0</td>\n",
       "    </tr>\n",
       "    <tr>\n",
       "      <th>4</th>\n",
       "      <td>2</td>\n",
       "      <td>0.745356</td>\n",
       "      <td>0.693361</td>\n",
       "      <td>0.670782</td>\n",
       "      <td>0.667408</td>\n",
       "      <td>0.666732</td>\n",
       "      <td>32</td>\n",
       "      <td>14.222222</td>\n",
       "      <td>79</td>\n",
       "      <td>65.333333</td>\n",
       "      <td>...</td>\n",
       "      <td>225</td>\n",
       "      <td>0.063830</td>\n",
       "      <td>0.000000</td>\n",
       "      <td>0.297872</td>\n",
       "      <td>0</td>\n",
       "      <td>0.088829</td>\n",
       "      <td>0.039480</td>\n",
       "      <td>17</td>\n",
       "      <td>-3.4825</td>\n",
       "      <td>0.0</td>\n",
       "    </tr>\n",
       "    <tr>\n",
       "      <th>...</th>\n",
       "      <td>...</td>\n",
       "      <td>...</td>\n",
       "      <td>...</td>\n",
       "      <td>...</td>\n",
       "      <td>...</td>\n",
       "      <td>...</td>\n",
       "      <td>...</td>\n",
       "      <td>...</td>\n",
       "      <td>...</td>\n",
       "      <td>...</td>\n",
       "      <td>...</td>\n",
       "      <td>...</td>\n",
       "      <td>...</td>\n",
       "      <td>...</td>\n",
       "      <td>...</td>\n",
       "      <td>...</td>\n",
       "      <td>...</td>\n",
       "      <td>...</td>\n",
       "      <td>...</td>\n",
       "      <td>...</td>\n",
       "      <td>...</td>\n",
       "    </tr>\n",
       "    <tr>\n",
       "      <th>44169</th>\n",
       "      <td>3</td>\n",
       "      <td>0.577350</td>\n",
       "      <td>0.480750</td>\n",
       "      <td>0.415244</td>\n",
       "      <td>0.389977</td>\n",
       "      <td>0.372041</td>\n",
       "      <td>13</td>\n",
       "      <td>5.555556</td>\n",
       "      <td>53</td>\n",
       "      <td>76.666667</td>\n",
       "      <td>...</td>\n",
       "      <td>194</td>\n",
       "      <td>0.162162</td>\n",
       "      <td>0.243243</td>\n",
       "      <td>0.000000</td>\n",
       "      <td>0</td>\n",
       "      <td>0.357395</td>\n",
       "      <td>0.126792</td>\n",
       "      <td>176677</td>\n",
       "      <td>-5.7258</td>\n",
       "      <td>0.0</td>\n",
       "    </tr>\n",
       "    <tr>\n",
       "      <th>44170</th>\n",
       "      <td>2</td>\n",
       "      <td>0.707107</td>\n",
       "      <td>0.629961</td>\n",
       "      <td>0.574349</td>\n",
       "      <td>0.552045</td>\n",
       "      <td>0.535887</td>\n",
       "      <td>41</td>\n",
       "      <td>20.500000</td>\n",
       "      <td>81</td>\n",
       "      <td>60.000000</td>\n",
       "      <td>...</td>\n",
       "      <td>194</td>\n",
       "      <td>0.129032</td>\n",
       "      <td>0.032258</td>\n",
       "      <td>0.451613</td>\n",
       "      <td>0</td>\n",
       "      <td>0.020806</td>\n",
       "      <td>0.010403</td>\n",
       "      <td>176681</td>\n",
       "      <td>-5.9999</td>\n",
       "      <td>0.0</td>\n",
       "    </tr>\n",
       "    <tr>\n",
       "      <th>44171</th>\n",
       "      <td>2</td>\n",
       "      <td>0.707107</td>\n",
       "      <td>0.629961</td>\n",
       "      <td>0.574349</td>\n",
       "      <td>0.552045</td>\n",
       "      <td>0.535887</td>\n",
       "      <td>41</td>\n",
       "      <td>20.500000</td>\n",
       "      <td>81</td>\n",
       "      <td>60.000000</td>\n",
       "      <td>...</td>\n",
       "      <td>194</td>\n",
       "      <td>0.129032</td>\n",
       "      <td>0.032258</td>\n",
       "      <td>0.451613</td>\n",
       "      <td>0</td>\n",
       "      <td>0.020806</td>\n",
       "      <td>0.010403</td>\n",
       "      <td>176685</td>\n",
       "      <td>-5.9188</td>\n",
       "      <td>0.0</td>\n",
       "    </tr>\n",
       "    <tr>\n",
       "      <th>44172</th>\n",
       "      <td>2</td>\n",
       "      <td>0.849837</td>\n",
       "      <td>0.835550</td>\n",
       "      <td>0.833387</td>\n",
       "      <td>0.833335</td>\n",
       "      <td>0.833333</td>\n",
       "      <td>41</td>\n",
       "      <td>11.388889</td>\n",
       "      <td>81</td>\n",
       "      <td>70.666667</td>\n",
       "      <td>...</td>\n",
       "      <td>194</td>\n",
       "      <td>0.086331</td>\n",
       "      <td>0.035971</td>\n",
       "      <td>0.503597</td>\n",
       "      <td>0</td>\n",
       "      <td>0.020806</td>\n",
       "      <td>0.005779</td>\n",
       "      <td>176689</td>\n",
       "      <td>-3.6791</td>\n",
       "      <td>0.0</td>\n",
       "    </tr>\n",
       "    <tr>\n",
       "      <th>44173</th>\n",
       "      <td>3</td>\n",
       "      <td>0.577350</td>\n",
       "      <td>0.480750</td>\n",
       "      <td>0.415244</td>\n",
       "      <td>0.389977</td>\n",
       "      <td>0.372041</td>\n",
       "      <td>42</td>\n",
       "      <td>15.777778</td>\n",
       "      <td>82</td>\n",
       "      <td>54.000000</td>\n",
       "      <td>...</td>\n",
       "      <td>225</td>\n",
       "      <td>0.127660</td>\n",
       "      <td>0.042553</td>\n",
       "      <td>0.574468</td>\n",
       "      <td>0</td>\n",
       "      <td>0.252933</td>\n",
       "      <td>0.105718</td>\n",
       "      <td>176693</td>\n",
       "      <td>-6.4306</td>\n",
       "      <td>0.0</td>\n",
       "    </tr>\n",
       "  </tbody>\n",
       "</table>\n",
       "<p>44174 rows × 122 columns</p>\n",
       "</div>"
      ],
      "text/plain": [
       "       NComp  Comp_L2Norm  Comp_L3Norm  Comp_L5Norm  Comp_L7Norm  \\\n",
       "0          1     1.000000     1.000000     1.000000     1.000000   \n",
       "1          1     1.000000     1.000000     1.000000     1.000000   \n",
       "2          2     0.745356     0.693361     0.670782     0.667408   \n",
       "3          2     0.745356     0.693361     0.670782     0.667408   \n",
       "4          2     0.745356     0.693361     0.670782     0.667408   \n",
       "...      ...          ...          ...          ...          ...   \n",
       "44169      3     0.577350     0.480750     0.415244     0.389977   \n",
       "44170      2     0.707107     0.629961     0.574349     0.552045   \n",
       "44171      2     0.707107     0.629961     0.574349     0.552045   \n",
       "44172      2     0.849837     0.835550     0.833387     0.833335   \n",
       "44173      3     0.577350     0.480750     0.415244     0.389977   \n",
       "\n",
       "       Comp_L10Norm  maxdiff_Number  dev_Number  max_Number  \\\n",
       "0          1.000000               0    0.000000          89   \n",
       "1          1.000000               0    0.000000          47   \n",
       "2          0.666732              32   14.222222          79   \n",
       "3          0.666732              32   14.222222          79   \n",
       "4          0.666732              32   14.222222          79   \n",
       "...             ...             ...         ...         ...   \n",
       "44169      0.372041              13    5.555556          53   \n",
       "44170      0.535887              41   20.500000          81   \n",
       "44171      0.535887              41   20.500000          81   \n",
       "44172      0.833333              41   11.388889          81   \n",
       "44173      0.372041              42   15.777778          82   \n",
       "\n",
       "       mean_MendeleevNumber  ...  max_SpaceGroupNumber  frac_sValence  \\\n",
       "0                 14.000000  ...                   225       0.666667   \n",
       "1                 65.000000  ...                   225       0.090909   \n",
       "2                 65.333333  ...                   225       0.063830   \n",
       "3                 65.333333  ...                   225       0.063830   \n",
       "4                 65.333333  ...                   225       0.063830   \n",
       "...                     ...  ...                   ...            ...   \n",
       "44169             76.666667  ...                   194       0.162162   \n",
       "44170             60.000000  ...                   194       0.129032   \n",
       "44171             60.000000  ...                   194       0.129032   \n",
       "44172             70.666667  ...                   194       0.086331   \n",
       "44173             54.000000  ...                   225       0.127660   \n",
       "\n",
       "       frac_pValence  frac_fValence  CanFormIonic  MaxIonicChar  \\\n",
       "0           0.000000       0.000000             0      0.000000   \n",
       "1           0.000000       0.000000             0      0.000000   \n",
       "2           0.000000       0.297872             0      0.088829   \n",
       "3           0.000000       0.297872             0      0.088829   \n",
       "4           0.000000       0.297872             0      0.088829   \n",
       "...              ...            ...           ...           ...   \n",
       "44169       0.243243       0.000000             0      0.357395   \n",
       "44170       0.032258       0.451613             0      0.020806   \n",
       "44171       0.032258       0.451613             0      0.020806   \n",
       "44172       0.035971       0.503597             0      0.020806   \n",
       "44173       0.042553       0.574468             0      0.252933   \n",
       "\n",
       "       MeanIonicChar   Index  TotalEnergy  Bandgap  \n",
       "0           0.000000       1      -4.4803      0.0  \n",
       "1           0.000000       5      -3.2681      0.0  \n",
       "2           0.039480       9      -3.5294      0.0  \n",
       "3           0.039480      13      -3.5643      0.0  \n",
       "4           0.039480      17      -3.4825      0.0  \n",
       "...              ...     ...          ...      ...  \n",
       "44169       0.126792  176677      -5.7258      0.0  \n",
       "44170       0.010403  176681      -5.9999      0.0  \n",
       "44171       0.010403  176685      -5.9188      0.0  \n",
       "44172       0.005779  176689      -3.6791      0.0  \n",
       "44173       0.105718  176693      -6.4306      0.0  \n",
       "\n",
       "[44174 rows x 122 columns]"
      ]
     },
     "execution_count": 61,
     "metadata": {},
     "output_type": "execute_result"
    }
   ],
   "source": [
    "df"
   ]
  },
  {
   "cell_type": "code",
   "execution_count": 62,
   "id": "51edf05c",
   "metadata": {},
   "outputs": [],
   "source": [
    "#Bandgap 0과 1로 분류\n",
    "y_df=y_df.apply(lambda x: 0 if x==0 else 1)"
   ]
  },
  {
   "cell_type": "code",
   "execution_count": 63,
   "id": "f98eb9f7",
   "metadata": {},
   "outputs": [],
   "source": [
    "from sklearn.model_selection import train_test_split\n",
    "\n",
    "x_train_1, x_test, y_train_1, y_test = train_test_split(x_df, y_df, test_size = 0.2, \n",
    "                                                  shuffle = True, #계층샘플링\n",
    "                                                    stratify=y_df,\n",
    "                                                  random_state = 42)"
   ]
  },
  {
   "cell_type": "code",
   "execution_count": 64,
   "id": "a094e178",
   "metadata": {},
   "outputs": [],
   "source": [
    "x_train, x_val, y_train, y_val = train_test_split(x_train_1, \n",
    "                                                  y_train_1, \n",
    "                                                  test_size = 0.2, \n",
    "                                                  shuffle = True,\n",
    "                                                  stratify=y_train_1,\n",
    "                                                  random_state = 42)"
   ]
  },
  {
   "cell_type": "code",
   "execution_count": 65,
   "id": "41b82f2a",
   "metadata": {},
   "outputs": [
    {
     "name": "stdout",
     "output_type": "stream",
     "text": [
      "x_train_1: (35339, 119)\n",
      "y_train_1: (35339,)\n",
      "x_test: (8835, 119)\n",
      "y_test: (8835,)\n",
      "x_train: (28271, 119)\n",
      "y_train: (28271,)\n",
      "x_val: (7068, 119)\n",
      "y_val: (7068,)\n"
     ]
    }
   ],
   "source": [
    "print(\"x_train_1:\",x_train_1.shape)\n",
    "print(\"y_train_1:\",y_train_1.shape)\n",
    "print(\"x_test:\",x_test.shape)\n",
    "print(\"y_test:\", y_test.shape)\n",
    "print(\"x_train:\",x_train.shape)\n",
    "print(\"y_train:\",y_train.shape)\n",
    "print(\"x_val:\",x_val.shape)\n",
    "print(\"y_val:\", y_val.shape)"
   ]
  },
  {
   "cell_type": "code",
   "execution_count": 66,
   "id": "1b403b17",
   "metadata": {},
   "outputs": [],
   "source": [
    "from sklearn.preprocessing import MinMaxScaler\n",
    "scaler=MinMaxScaler()\n",
    "x_train=scaler.fit_transform(x_train)\n",
    "x_train_1=scaler.fit_transform(x_train_1)\n",
    "x_val=scaler.fit_transform(x_val)\n",
    "x_test=scaler.fit_transform(x_test)"
   ]
  },
  {
   "cell_type": "code",
   "execution_count": 67,
   "id": "1f3510e1",
   "metadata": {},
   "outputs": [],
   "source": [
    "from sklearn.decomposition import PCA\n",
    "\n",
    "pca = PCA(n_components=2)\n",
    "X2D = pca.fit_transform(x_train_1)"
   ]
  },
  {
   "cell_type": "code",
   "execution_count": 68,
   "id": "edb1aa27",
   "metadata": {},
   "outputs": [
    {
     "data": {
      "text/plain": [
       "(35339, 119)"
      ]
     },
     "execution_count": 68,
     "metadata": {},
     "output_type": "execute_result"
    }
   ],
   "source": [
    "x_train_1.shape"
   ]
  },
  {
   "cell_type": "code",
   "execution_count": 69,
   "id": "f992f4de",
   "metadata": {},
   "outputs": [
    {
     "data": {
      "text/plain": [
       "array([[0.4       , 0.47015119, 0.50386381, ..., 0.        , 0.3509317 ,\n",
       "        0.12966714],\n",
       "       [0.4       , 0.23541945, 0.21087181, ..., 0.        , 0.24429191,\n",
       "        0.20107193],\n",
       "       [0.4       , 0.29877515, 0.2988025 , ..., 0.        , 0.06575171,\n",
       "        0.05703048],\n",
       "       ...,\n",
       "       [0.2       , 0.53934466, 0.53398711, ..., 0.        , 0.02414537,\n",
       "        0.0215803 ],\n",
       "       [0.4       , 0.2763932 , 0.26179311, ..., 0.        , 0.2744941 ,\n",
       "        0.15477357],\n",
       "       [0.2       , 0.53934466, 0.53398711, ..., 0.        , 0.03651412,\n",
       "        0.03263506]])"
      ]
     },
     "execution_count": 69,
     "metadata": {},
     "output_type": "execute_result"
    }
   ],
   "source": [
    "x_train"
   ]
  },
  {
   "cell_type": "markdown",
   "id": "b44d7d0f",
   "metadata": {},
   "source": [
    "# SGDClassifier"
   ]
  },
  {
   "cell_type": "code",
   "execution_count": 70,
   "id": "10cf8a64",
   "metadata": {},
   "outputs": [
    {
     "data": {
      "text/plain": [
       "SGDClassifier(random_state=42)"
      ]
     },
     "execution_count": 70,
     "metadata": {},
     "output_type": "execute_result"
    }
   ],
   "source": [
    "from sklearn.linear_model import SGDClassifier\n",
    "\n",
    "sgd_clf = SGDClassifier(max_iter=1000, tol=1e-3, random_state=42)\n",
    "sgd_clf.fit(x_train_1, y_train_1)"
   ]
  },
  {
   "cell_type": "code",
   "execution_count": 71,
   "id": "1db659e9",
   "metadata": {},
   "outputs": [],
   "source": [
    "#교차 검증\n",
    "\n",
    "from sklearn.model_selection import cross_val_predict\n",
    "y_train_pred1 = cross_val_predict(sgd_clf, x_train, y_train, cv=15)"
   ]
  },
  {
   "cell_type": "code",
   "execution_count": 72,
   "id": "e963c62c",
   "metadata": {},
   "outputs": [
    {
     "data": {
      "text/plain": [
       "(28271,)"
      ]
     },
     "execution_count": 72,
     "metadata": {},
     "output_type": "execute_result"
    }
   ],
   "source": [
    "y_train_pred1.shape"
   ]
  },
  {
   "cell_type": "code",
   "execution_count": 73,
   "id": "fac47125",
   "metadata": {
    "scrolled": true
   },
   "outputs": [
    {
     "data": {
      "text/plain": [
       "(28271,)"
      ]
     },
     "execution_count": 73,
     "metadata": {},
     "output_type": "execute_result"
    }
   ],
   "source": [
    "y_train.shape"
   ]
  },
  {
   "cell_type": "code",
   "execution_count": 74,
   "id": "275ef24b",
   "metadata": {},
   "outputs": [
    {
     "data": {
      "text/plain": [
       "(8835,)"
      ]
     },
     "execution_count": 74,
     "metadata": {},
     "output_type": "execute_result"
    }
   ],
   "source": [
    "y_test_pred = sgd_clf.predict(x_test)\n",
    "y_test_pred.shape"
   ]
  },
  {
   "cell_type": "code",
   "execution_count": 75,
   "id": "5f369d5c",
   "metadata": {},
   "outputs": [
    {
     "data": {
      "text/plain": [
       "array([[21701,  1279],\n",
       "       [  967,  4324]], dtype=int64)"
      ]
     },
     "execution_count": 75,
     "metadata": {},
     "output_type": "execute_result"
    }
   ],
   "source": [
    "#confusion matrix\n",
    "\n",
    "from sklearn.metrics import confusion_matrix\n",
    "confusion_matrix(y_train, y_train_pred1)"
   ]
  },
  {
   "cell_type": "code",
   "execution_count": 76,
   "id": "53786e7d",
   "metadata": {},
   "outputs": [
    {
     "data": {
      "text/plain": [
       "array([[6868,  313],\n",
       "       [ 367, 1287]], dtype=int64)"
      ]
     },
     "execution_count": 76,
     "metadata": {},
     "output_type": "execute_result"
    }
   ],
   "source": [
    "confusion_matrix(y_test, y_test_pred)"
   ]
  },
  {
   "cell_type": "code",
   "execution_count": 77,
   "id": "ed992227",
   "metadata": {
    "scrolled": true
   },
   "outputs": [
    {
     "name": "stdout",
     "output_type": "stream",
     "text": [
      "precision train : 0.7717294306621453\n",
      "accuracy train : 0.9205546319550069\n",
      "recall train : 0.8172368172368173\n",
      "f1_score train : 0.7938314668624932\n",
      "\n",
      "precision test : 0.804375\n",
      "accuracy test : 0.923033389926429\n",
      "recall test : 0.7781136638452237\n",
      "f1_score test : 0.7910264290104486\n"
     ]
    }
   ],
   "source": [
    "from sklearn.metrics import accuracy_score, f1_score, precision_score, recall_score, roc_auc_score, r2_score\n",
    "precision_train = precision_score(y_train,y_train_pred1)\n",
    "accuracy_train = accuracy_score(y_train,y_train_pred1)\n",
    "recall_train = recall_score(y_train,y_train_pred1)\n",
    "f1_score_train = f1_score(y_train,y_train_pred1)\n",
    "\n",
    "precision_test = precision_score(y_test,y_test_pred)\n",
    "accuracy_test = accuracy_score(y_test,y_test_pred)\n",
    "recall_test = recall_score(y_test,y_test_pred)\n",
    "f1_score_test = f1_score(y_test,y_test_pred)\n",
    "\n",
    "print(\"precision train :\" , precision_train)\n",
    "print(\"accuracy train :\" , accuracy_train)\n",
    "print(\"recall train :\" , recall_train)\n",
    "print(\"f1_score train :\" , f1_score_train)\n",
    "\n",
    "print(\"\\nprecision test :\" , precision_test)\n",
    "print(\"accuracy test :\" , accuracy_test)\n",
    "print(\"recall test :\" , recall_test)\n",
    "print(\"f1_score test :\" , f1_score_test)"
   ]
  },
  {
   "cell_type": "code",
   "execution_count": 78,
   "id": "07f8aa2e",
   "metadata": {},
   "outputs": [],
   "source": [
    "# 결과값을 함수로 정의\n",
    "\n",
    "def test_score_set(data):  \n",
    "    class_name=['Positive','Negative']\n",
    "    plt.figure()\n",
    "\n",
    "    plot_confusion_matrix(data,\n",
    "                          x_test,y_test,\n",
    "                          display_labels =class_name ,\n",
    "                          cmap=plt.cm.Blues)\n",
    "    plt.show()\n",
    "    \n",
    "    a = accuracy_score(y_test, pred_test)\n",
    "    print(\"accuracy : \", a)\n",
    "    p = precision_score(y_test, pred_test)\n",
    "    print(\"precision : \", p)\n",
    "    r = recall_score(y_test, pred_test)\n",
    "    print(\"recall : \", r)\n",
    "    f1 = f1_score(y_test, pred_test)\n",
    "    print(\"f1_score : \",f1)\n",
    "    roc = roc_auc_score(y_test, pred_test)\n",
    "    print(\"roc_auc_score : \",roc)"
   ]
  },
  {
   "cell_type": "code",
   "execution_count": 84,
   "id": "43d04da9",
   "metadata": {},
   "outputs": [],
   "source": [
    "def val_score_set(data):  \n",
    "    class_name=['Positive','Negative']\n",
    "    plt.figure()\n",
    "\n",
    "    plot_confusion_matrix(data,\n",
    "                          x_val,y_val,\n",
    "                          display_labels =class_name ,\n",
    "                          cmap=plt.cm.Reds)\n",
    "    plt.show()\n",
    "    \n",
    "    a = accuracy_score(y_val,pred_test_2)\n",
    "    print(\"accuracy : \", a)\n",
    "    p = precision_score(y_val,pred_test_2)\n",
    "    print(\"precision : \", p)\n",
    "    r = recall_score(y_val,pred_test_2)\n",
    "    print(\"recall : \", r)\n",
    "    f1 = f1_score(y_val,pred_test_2)\n",
    "    print(\"f1_score : \",f1)\n",
    "    roc = roc_auc_score(y_val,pred_test_2)\n",
    "    print(\"roc_auc_score : \",roc)"
   ]
  },
  {
   "cell_type": "code",
   "execution_count": 85,
   "id": "e6d59b74",
   "metadata": {},
   "outputs": [
    {
     "name": "stderr",
     "output_type": "stream",
     "text": [
      "C:\\ProgramData\\Anaconda3\\lib\\site-packages\\sklearn\\utils\\deprecation.py:87: FutureWarning: Function plot_confusion_matrix is deprecated; Function `plot_confusion_matrix` is deprecated in 1.0 and will be removed in 1.2. Use one of the class methods: ConfusionMatrixDisplay.from_predictions or ConfusionMatrixDisplay.from_estimator.\n",
      "  warnings.warn(msg, category=FutureWarning)\n"
     ]
    },
    {
     "data": {
      "text/plain": [
       "<Figure size 432x288 with 0 Axes>"
      ]
     },
     "metadata": {},
     "output_type": "display_data"
    },
    {
     "data": {
      "image/png": "[encoded data removed]",
      "text/plain": [
       "<Figure size 432x288 with 2 Axes>"
      ]
     },
     "metadata": {
      "needs_background": "light"
     },
     "output_type": "display_data"
    },
    {
     "name": "stdout",
     "output_type": "stream",
     "text": [
      "accuracy :  0.923033389926429\n",
      "precision :  0.804375\n",
      "recall :  0.7781136638452237\n",
      "f1_score :  0.7910264290104486\n",
      "roc_auc_score :  0.8672632098644028\n"
     ]
    }
   ],
   "source": [
    "# confusion matrix를 plot\n",
    "# 함수를 이용한 결과값 출력\n",
    "\n",
    "from sklearn.metrics import plot_confusion_matrix\n",
    "\n",
    "sgd = SGDClassifier(max_iter=1000, tol=1e-3, random_state=42) \n",
    "sgd.fit(x_train_1, y_train_1)\n",
    "pred_test=sgd.predict(x_test)\n",
    "\n",
    "test_score_set(sgd)"
   ]
  },
  {
   "cell_type": "code",
   "execution_count": 86,
   "id": "954e952d",
   "metadata": {},
   "outputs": [
    {
     "name": "stderr",
     "output_type": "stream",
     "text": [
      "C:\\ProgramData\\Anaconda3\\lib\\site-packages\\sklearn\\utils\\deprecation.py:87: FutureWarning: Function plot_confusion_matrix is deprecated; Function `plot_confusion_matrix` is deprecated in 1.0 and will be removed in 1.2. Use one of the class methods: ConfusionMatrixDisplay.from_predictions or ConfusionMatrixDisplay.from_estimator.\n",
      "  warnings.warn(msg, category=FutureWarning)\n"
     ]
    },
    {
     "data": {
      "text/plain": [
       "<Figure size 432x288 with 0 Axes>"
      ]
     },
     "metadata": {},
     "output_type": "display_data"
    },
    {
     "data": {
      "image/png": "[encoded data removed]",
      "text/plain": [
       "<Figure size 432x288 with 2 Axes>"
      ]
     },
     "metadata": {
      "needs_background": "light"
     },
     "output_type": "display_data"
    },
    {
     "name": "stdout",
     "output_type": "stream",
     "text": [
      "accuracy :  0.9162422184493492\n",
      "precision :  0.7311827956989247\n",
      "recall :  0.873771730914588\n",
      "f1_score :  0.7961432506887053\n",
      "roc_auc_score :  0.8998971796435429\n"
     ]
    }
   ],
   "source": [
    "from sklearn.metrics import plot_confusion_matrix\n",
    "\n",
    "sgd = SGDClassifier(max_iter=1000, tol=1e-3, random_state=42) \n",
    "sgd.fit(x_train, y_train)\n",
    "pred_test_2=sgd.predict(x_val)\n",
    "\n",
    "val_score_set(sgd)"
   ]
  },
  {
   "cell_type": "markdown",
   "id": "a6fb1a87",
   "metadata": {},
   "source": [
    "# Random Forest Model"
   ]
  },
  {
   "cell_type": "code",
   "execution_count": 87,
   "id": "ca6c8c85",
   "metadata": {},
   "outputs": [],
   "source": [
    "from sklearn.ensemble import RandomForestClassifier\n",
    "import sklearn.metrics as metrics\n",
    "from sklearn.metrics import accuracy_score, f1_score, precision_score, recall_score, roc_auc_score, r2_score\n",
    "from sklearn.metrics import plot_confusion_matrix"
   ]
  },
  {
   "cell_type": "code",
   "execution_count": 88,
   "id": "17f00cef",
   "metadata": {},
   "outputs": [],
   "source": [
    "def test_score_set(data):  \n",
    "    class_name=['Positive','Negative']\n",
    "    plt.figure()\n",
    "\n",
    "    plot_confusion_matrix(data,\n",
    "                          x_test,y_test,\n",
    "                          display_labels =class_name ,\n",
    "                          cmap=plt.cm.Blues)\n",
    "    plt.show()\n",
    "    \n",
    "    a = accuracy_score(y_test,pred)\n",
    "    print(\"accuracy : \", a)\n",
    "    p = precision_score(y_test,pred)\n",
    "    print(\"precision : \", p)\n",
    "    r = recall_score(y_test,pred)\n",
    "    print(\"recall : \", r)\n",
    "    f1 = f1_score(y_test,pred)\n",
    "    print(\"f1_score : \",f1)\n",
    "    roc = roc_auc_score(y_test,pred)\n",
    "    print(\"roc_auc_score : \",roc)"
   ]
  },
  {
   "cell_type": "code",
   "execution_count": 89,
   "id": "ba9ab18b",
   "metadata": {
    "scrolled": false
   },
   "outputs": [
    {
     "name": "stderr",
     "output_type": "stream",
     "text": [
      "C:\\ProgramData\\Anaconda3\\lib\\site-packages\\sklearn\\utils\\deprecation.py:87: FutureWarning: Function plot_confusion_matrix is deprecated; Function `plot_confusion_matrix` is deprecated in 1.0 and will be removed in 1.2. Use one of the class methods: ConfusionMatrixDisplay.from_predictions or ConfusionMatrixDisplay.from_estimator.\n",
      "  warnings.warn(msg, category=FutureWarning)\n"
     ]
    },
    {
     "data": {
      "text/plain": [
       "<Figure size 432x288 with 0 Axes>"
      ]
     },
     "metadata": {},
     "output_type": "display_data"
    },
    {
     "data": {
      "image/png": "[encoded data removed]",
      "text/plain": [
       "<Figure size 432x288 with 2 Axes>"
      ]
     },
     "metadata": {
      "needs_background": "light"
     },
     "output_type": "display_data"
    },
    {
     "name": "stdout",
     "output_type": "stream",
     "text": [
      "accuracy :  0.9267685342388229\n",
      "precision :  0.784624081401922\n",
      "recall :  0.8391777509068924\n",
      "f1_score :  0.8109845165059889\n",
      "roc_auc_score :  0.8930605367819521\n"
     ]
    }
   ],
   "source": [
    "#test 검증\n",
    "#train_A\n",
    "\n",
    "rfc = RandomForestClassifier(n_estimators=5, random_state=42) \n",
    "rfc.fit(x_train_1, y_train_1)\n",
    "pred=rfc.predict(x_test)\n",
    "\n",
    "test_score_set(rfc)"
   ]
  },
  {
   "cell_type": "code",
   "execution_count": 90,
   "id": "f4e3bfef",
   "metadata": {},
   "outputs": [
    {
     "name": "stderr",
     "output_type": "stream",
     "text": [
      "C:\\ProgramData\\Anaconda3\\lib\\site-packages\\sklearn\\utils\\deprecation.py:87: FutureWarning: Function plot_confusion_matrix is deprecated; Function `plot_confusion_matrix` is deprecated in 1.0 and will be removed in 1.2. Use one of the class methods: ConfusionMatrixDisplay.from_predictions or ConfusionMatrixDisplay.from_estimator.\n",
      "  warnings.warn(msg, category=FutureWarning)\n"
     ]
    },
    {
     "data": {
      "text/plain": [
       "<Figure size 432x288 with 0 Axes>"
      ]
     },
     "metadata": {},
     "output_type": "display_data"
    },
    {
     "data": {
      "image/png": "[encoded data removed]",
      "text/plain": [
       "<Figure size 432x288 with 2 Axes>"
      ]
     },
     "metadata": {
      "needs_background": "light"
     },
     "output_type": "display_data"
    },
    {
     "name": "stdout",
     "output_type": "stream",
     "text": [
      "accuracy :  0.9162422184493492\n",
      "precision :  0.7311827956989247\n",
      "recall :  0.873771730914588\n",
      "f1_score :  0.7961432506887053\n",
      "roc_auc_score :  0.8998971796435429\n"
     ]
    }
   ],
   "source": [
    "#validation 검증\n",
    "rfc = RandomForestClassifier(n_estimators=5, random_state=42) \n",
    "rfc.fit(x_train, y_train)\n",
    "pred=rfc.predict(x_val)\n",
    "\n",
    "val_score_set(rfc)"
   ]
  },
  {
   "cell_type": "code",
   "execution_count": null,
   "id": "67081034",
   "metadata": {},
   "outputs": [],
   "source": []
  }
 ],
 "metadata": {
  "kernelspec": {
   "display_name": "Python 3 (ipykernel)",
   "language": "python",
   "name": "python3"
  },
  "language_info": {
   "codemirror_mode": {
    "name": "ipython",
    "version": 3
   },
   "file_extension": ".py",
   "mimetype": "text/x-python",
   "name": "python",
   "nbconvert_exporter": "python",
   "pygments_lexer": "ipython3",
   "version": "3.9.7"
  }
 },
 "nbformat": 4,
 "nbformat_minor": 5
}
